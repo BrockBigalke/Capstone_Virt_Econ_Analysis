{
 "cells": [
  {
   "cell_type": "markdown",
   "id": "a4a2647b-bb1b-4a85-8fcf-18dfc6585dfd",
   "metadata": {},
   "source": [
    "## Creation of Timeseries Dataframe of Various items"
   ]
  },
  {
   "cell_type": "markdown",
   "id": "4ef95549-8880-4e84-a9be-1bcce686eb13",
   "metadata": {
    "tags": []
   },
   "source": [
    "### Imports"
   ]
  },
  {
   "cell_type": "code",
   "execution_count": 217,
   "id": "caa8f7d6-1c87-4574-9d45-ba1cd5c0510e",
   "metadata": {},
   "outputs": [],
   "source": [
    "import requests\n",
    "import pandas as pd\n",
    "import json\n",
    "\n",
    "from sklearn.preprocessing import StandardScaler\n",
    "\n",
    "import time\n",
    "import random\n",
    "import csv\n",
    "\n",
    "import matplotlib.pyplot as plt\n",
    "from datetime import datetime"
   ]
  },
  {
   "cell_type": "markdown",
   "id": "d6e0d83d-a809-4abd-ae96-e155fc10c95c",
   "metadata": {},
   "source": [
    "### Practice Pulling from services.runescape.com for individual item"
   ]
  },
  {
   "cell_type": "code",
   "execution_count": 224,
   "id": "4c858652-ac57-43dd-a140-a5b5faa6c427",
   "metadata": {},
   "outputs": [
    {
     "name": "stdout",
     "output_type": "stream",
     "text": [
      "<Response [200]>\n"
     ]
    },
    {
     "data": {
      "text/plain": [
       "{'item': {'icon': 'https://secure.runescape.com/m=itemdb_oldschool/1645098931607_obj_sprite.gif?id=4587',\n",
       "  'icon_large': 'https://secure.runescape.com/m=itemdb_oldschool/1645098931607_obj_big.gif?id=4587',\n",
       "  'id': 4587,\n",
       "  'type': 'Default',\n",
       "  'typeIcon': 'https://www.runescape.com/img/categories/Default',\n",
       "  'name': 'Dragon scimitar',\n",
       "  'description': 'A vicious, curved sword.',\n",
       "  'current': {'trend': 'neutral', 'price': '60.0k'},\n",
       "  'today': {'trend': 'positive', 'price': '+108'},\n",
       "  'members': 'true',\n",
       "  'day30': {'trend': 'positive', 'change': '+0.0%'},\n",
       "  'day90': {'trend': 'positive', 'change': '+0.0%'},\n",
       "  'day180': {'trend': 'positive', 'change': '+0.0%'}}}"
      ]
     },
     "execution_count": 224,
     "metadata": {},
     "output_type": "execute_result"
    }
   ],
   "source": [
    "url = 'http://services.runescape.com/m=itemdb_oldschool/api/catalogue/detail.json?item='\n",
    "\n",
    "\n",
    "res = requests.get(url+'4587')\n",
    "\n",
    "print(res)\n",
    "\n",
    "data = res.json()\n",
    "\n",
    "data"
   ]
  },
  {
   "cell_type": "code",
   "execution_count": 225,
   "id": "f8ccebfa-5dc3-4312-8da8-6ea46d12487a",
   "metadata": {},
   "outputs": [
    {
     "data": {
      "text/plain": [
       "'Dragon scimitar'"
      ]
     },
     "execution_count": 225,
     "metadata": {},
     "output_type": "execute_result"
    }
   ],
   "source": [
    "name = data['item']['name']\n",
    "name"
   ]
  },
  {
   "cell_type": "code",
   "execution_count": 226,
   "id": "2ab003fc-2d14-473a-b4dc-c91cec6689ff",
   "metadata": {},
   "outputs": [
    {
     "data": {
      "text/plain": [
       "60000.0"
      ]
     },
     "execution_count": 226,
     "metadata": {},
     "output_type": "execute_result"
    }
   ],
   "source": [
    "price = float(data['item']['current']['price'].replace('k',''))*1000\n",
    "price"
   ]
  },
  {
   "cell_type": "code",
   "execution_count": 227,
   "id": "eec2981c-c119-4351-a994-ad87c62485ec",
   "metadata": {},
   "outputs": [],
   "source": [
    "practice_df = pd.DataFrame()"
   ]
  },
  {
   "cell_type": "code",
   "execution_count": 232,
   "id": "538bb4fd-64a5-40d8-8124-13ec786e9d86",
   "metadata": {},
   "outputs": [],
   "source": [
    "name_list = [name]\n",
    "price_list = [price]\n"
   ]
  },
  {
   "cell_type": "code",
   "execution_count": 233,
   "id": "1b1cd6aa-3c7a-4bb7-9259-5cd0ef4de5e3",
   "metadata": {},
   "outputs": [],
   "source": [
    "practice_df['names'] = name_list\n",
    "practice_df['price'] = price_list"
   ]
  },
  {
   "cell_type": "code",
   "execution_count": 235,
   "id": "731c70e2-4878-4ff7-b9d3-cba936cc4bdf",
   "metadata": {},
   "outputs": [
    {
     "data": {
      "text/html": [
       "<div>\n",
       "<style scoped>\n",
       "    .dataframe tbody tr th:only-of-type {\n",
       "        vertical-align: middle;\n",
       "    }\n",
       "\n",
       "    .dataframe tbody tr th {\n",
       "        vertical-align: top;\n",
       "    }\n",
       "\n",
       "    .dataframe thead th {\n",
       "        text-align: right;\n",
       "    }\n",
       "</style>\n",
       "<table border=\"1\" class=\"dataframe\">\n",
       "  <thead>\n",
       "    <tr style=\"text-align: right;\">\n",
       "      <th></th>\n",
       "      <th>names</th>\n",
       "      <th>price</th>\n",
       "    </tr>\n",
       "  </thead>\n",
       "  <tbody>\n",
       "    <tr>\n",
       "      <th>0</th>\n",
       "      <td>Dragon scimitar</td>\n",
       "      <td>60000.0</td>\n",
       "    </tr>\n",
       "  </tbody>\n",
       "</table>\n",
       "</div>"
      ],
      "text/plain": [
       "             names    price\n",
       "0  Dragon scimitar  60000.0"
      ]
     },
     "execution_count": 235,
     "metadata": {},
     "output_type": "execute_result"
    }
   ],
   "source": [
    "practice_df"
   ]
  },
  {
   "cell_type": "markdown",
   "id": "83f0f027-7501-4fcb-a617-8fead73b31da",
   "metadata": {},
   "source": [
    "### Function for pulling item information using API"
   ]
  },
  {
   "cell_type": "code",
   "execution_count": 236,
   "id": "b3d526be-c848-4684-b60d-a71ed0d6d755",
   "metadata": {},
   "outputs": [],
   "source": [
    "def osrs_api(item_id):\n",
    "    '''Takes an item's id number and returns a pandas data frame with its name and current price'''\n",
    "    \n",
    "    item_df = pd.DataFrame()\n",
    "    url = 'http://services.runescape.com/m=itemdb_oldschool/api/catalogue/detail.json?item='\n",
    "    response = requests.get(url+item_id)\n",
    "    data = response.json()\n",
    "    \n",
    "    name = data['item']['name']\n",
    "    \n",
    "    price = data['item']['current']['price']\n",
    "    if 'k' in str(price):\n",
    "        price = float(str(price).replace('k',''))*1000\n",
    "    elif 'm' in str(price):\n",
    "        price = float(str(price).replace('m',''))*1000_000\n",
    "    elif 'b' in str(price):\n",
    "        price = float(str(price).replace('b',''))*1000_000_000\n",
    "    else: \n",
    "        price = float(str(price).replace(\",\",\"\"))\n",
    "        \n",
    "    item_df['names'] = [name]\n",
    "    item_df['prices'] = [price]\n",
    "    \n",
    "    return item_df"
   ]
  },
  {
   "cell_type": "code",
   "execution_count": 237,
   "id": "1a9009ea-0121-4031-b6f3-71d48e69423f",
   "metadata": {},
   "outputs": [
    {
     "data": {
      "text/html": [
       "<div>\n",
       "<style scoped>\n",
       "    .dataframe tbody tr th:only-of-type {\n",
       "        vertical-align: middle;\n",
       "    }\n",
       "\n",
       "    .dataframe tbody tr th {\n",
       "        vertical-align: top;\n",
       "    }\n",
       "\n",
       "    .dataframe thead th {\n",
       "        text-align: right;\n",
       "    }\n",
       "</style>\n",
       "<table border=\"1\" class=\"dataframe\">\n",
       "  <thead>\n",
       "    <tr style=\"text-align: right;\">\n",
       "      <th></th>\n",
       "      <th>names</th>\n",
       "      <th>prices</th>\n",
       "    </tr>\n",
       "  </thead>\n",
       "  <tbody>\n",
       "    <tr>\n",
       "      <th>0</th>\n",
       "      <td>Magic roots</td>\n",
       "      <td>1608.0</td>\n",
       "    </tr>\n",
       "  </tbody>\n",
       "</table>\n",
       "</div>"
      ],
      "text/plain": [
       "         names  prices\n",
       "0  Magic roots  1608.0"
      ]
     },
     "execution_count": 237,
     "metadata": {},
     "output_type": "execute_result"
    }
   ],
   "source": [
    "osrs_api('6051') #Testing function on id for Magic roots item."
   ]
  },
  {
   "cell_type": "code",
   "execution_count": 238,
   "id": "b58fc583-0705-44bb-81c5-7947b027d765",
   "metadata": {},
   "outputs": [
    {
     "data": {
      "text/html": [
       "<div>\n",
       "<style scoped>\n",
       "    .dataframe tbody tr th:only-of-type {\n",
       "        vertical-align: middle;\n",
       "    }\n",
       "\n",
       "    .dataframe tbody tr th {\n",
       "        vertical-align: top;\n",
       "    }\n",
       "\n",
       "    .dataframe thead th {\n",
       "        text-align: right;\n",
       "    }\n",
       "</style>\n",
       "<table border=\"1\" class=\"dataframe\">\n",
       "  <thead>\n",
       "    <tr style=\"text-align: right;\">\n",
       "      <th></th>\n",
       "      <th>names</th>\n",
       "      <th>prices</th>\n",
       "    </tr>\n",
       "  </thead>\n",
       "  <tbody>\n",
       "    <tr>\n",
       "      <th>0</th>\n",
       "      <td>Unicorn horn</td>\n",
       "      <td>195.0</td>\n",
       "    </tr>\n",
       "  </tbody>\n",
       "</table>\n",
       "</div>"
      ],
      "text/plain": [
       "          names  prices\n",
       "0  Unicorn horn   195.0"
      ]
     },
     "execution_count": 238,
     "metadata": {},
     "output_type": "execute_result"
    }
   ],
   "source": [
    "osrs_api('237') #Testing function on id for Unicorn horn item."
   ]
  },
  {
   "cell_type": "code",
   "execution_count": 239,
   "id": "c6d2db2a-9570-465d-8f92-daf8153ef507",
   "metadata": {
    "tags": []
   },
   "outputs": [],
   "source": [
    "# https://github.com/chriskok/GEPrediction-OSRS/blob/master/data_scrapers/ge-scraper.py \n",
    "\n",
    "item_list = list(range(554,567,1))  # OSRS runes\n",
    "\n",
    "full_dict = {}\n",
    "labels = ['timestamp']\n",
    "\n",
    "for item_id in item_list:\n",
    "    r = requests.get('http://services.runescape.com/m=itemdb_oldschool/api/graph/{}.json'.format(item_id))\n",
    "    json_data = json.loads(r.text)\n",
    "    current_daily_dict = json_data['daily']\n",
    "\n",
    "    for daily_timestamp in current_daily_dict:\n",
    "        if (daily_timestamp in full_dict):\n",
    "            full_dict[daily_timestamp].append(current_daily_dict[daily_timestamp])\n",
    "        else:\n",
    "            full_dict[daily_timestamp] = [current_daily_dict[daily_timestamp]]\n",
    "    \n",
    "    r2 = requests.get('http://services.runescape.com/m=itemdb_oldschool/api/catalogue/detail.json', params={'item': item_id})\n",
    "    labels.append(json.loads(r2.text)['item']['name'].replace(\" \", \"_\"))"
   ]
  },
  {
   "cell_type": "markdown",
   "id": "eb60afcf-2a49-4901-9e4e-a97f9c577495",
   "metadata": {},
   "source": [
    "### API pull for OSRS Bond"
   ]
  },
  {
   "cell_type": "markdown",
   "id": "c6da4f8e-82cd-4273-a77b-1e5cf33ab1cc",
   "metadata": {},
   "source": [
    "The bond is an item that players can buy from Jagex (Runescape game developer) to sell to other players on the Grand Exchance for in-game gold. This item gives a good proximate for the value of the virtual gold to USD. A single bond costs $7."
   ]
  },
  {
   "cell_type": "code",
   "execution_count": 17,
   "id": "d75ceae7-0afd-40fa-bca9-065857b3387e",
   "metadata": {},
   "outputs": [],
   "source": [
    "bond_dict = {}\n",
    "\n",
    "r = requests.get('http://services.runescape.com/m=itemdb_oldschool/api/graph/13190.json')\n",
    "json_data = json.loads(r.text)\n",
    "current_daily_dict = json_data['daily']\n",
    "for daily_timestamp in current_daily_dict:\n",
    "        if (daily_timestamp in bond_dict):\n",
    "            bond_dict[daily_timestamp].append(current_daily_dict[daily_timestamp])\n",
    "        else:\n",
    "            bond_dict[daily_timestamp] = [current_daily_dict[daily_timestamp]]"
   ]
  },
  {
   "cell_type": "code",
   "execution_count": 18,
   "id": "c380a95f-bddf-45a0-b91f-18706bdc709f",
   "metadata": {},
   "outputs": [],
   "source": [
    "bond_df = pd.DataFrame.from_dict(bond_dict).T"
   ]
  },
  {
   "cell_type": "code",
   "execution_count": 19,
   "id": "6eeea352-613a-4f23-b3a5-3c88cdf4454a",
   "metadata": {},
   "outputs": [],
   "source": [
    "bond_df.columns = ['Bond']"
   ]
  },
  {
   "cell_type": "code",
   "execution_count": 256,
   "id": "02161fa1-7480-4137-9c4d-9110a07b7a0b",
   "metadata": {},
   "outputs": [
    {
     "data": {
      "text/plain": [
       "1630627200000    5306547\n",
       "1630713600000    5278052\n",
       "1630800000000    5261927\n",
       "1630886400000    5383852\n",
       "1630972800000    5466743\n",
       "                  ...   \n",
       "1645747200000    5335035\n",
       "1645833600000    5228219\n",
       "1645920000000    5150924\n",
       "1646006400000    5213693\n",
       "1646092800000    5264389\n",
       "Name: Bond, Length: 180, dtype: int64"
      ]
     },
     "execution_count": 256,
     "metadata": {},
     "output_type": "execute_result"
    }
   ],
   "source": [
    "bond_df['Bond']"
   ]
  },
  {
   "cell_type": "code",
   "execution_count": 259,
   "id": "ba5b0677-eda7-49c5-bf68-1f1511283145",
   "metadata": {},
   "outputs": [
    {
     "data": {
      "image/png": "[encoded data removed]",
      "text/plain": [
       "<Figure size 432x288 with 1 Axes>"
      ]
     },
     "metadata": {
      "needs_background": "light"
     },
     "output_type": "display_data"
    }
   ],
   "source": [
    "# fig, ax = plt.subplots(figsize=(10,8))\n",
    "\n",
    "ax.plot(bond_df.index, bond_df['Bond'])\n",
    "# ax.plot(bond_df.index, bond_df.rolling(10).mean()['Bond'])\n",
    "# plt.axhline(y = 1548.6333333333334, color = 'r', linestyle = '-')\n",
    "\n",
    "\n",
    "# plt.xticks(rotation=0,ticks=[0,90,180])\n",
    "# plt.ylim(4000000,6000000)\n",
    "plt.yticks()\n",
    "# ax.vlines(x='1639008000000',ymin=1400,ymax=1700,colors='red',linestyles='dashed')\n",
    "\n",
    "# plt.xlabel('UTC timestamp')\n",
    "# plt.ylabel('Price(Gp)')\n",
    "# plt.title('Price of Oldschool Runescape Bond')\n",
    "# plt.legend(labels=('Daily price','10 Rolling Avg','180 day Mean','Tax introduction'))\n",
    "plt.show()"
   ]
  },
  {
   "cell_type": "code",
   "execution_count": 265,
   "id": "b6dfef9b-0b8b-4cfc-87c5-8cbb001e9d95",
   "metadata": {},
   "outputs": [
    {
     "data": {
      "image/png": "[encoded data removed]",
      "text/plain": [
       "<Figure size 720x576 with 1 Axes>"
      ]
     },
     "metadata": {
      "needs_background": "light"
     },
     "output_type": "display_data"
    }
   ],
   "source": [
    "fig, ax = plt.subplots(figsize=(10,8))\n",
    "\n",
    "ax.plot(bond_df.index, bond_df['Bond'])\n",
    "ax.plot(bond_df.index, bond_df.rolling(10).mean()['Bond'])\n",
    "plt.axhline(y = bond_df['Bond'].mean(), color = 'r', linestyle = '-')\n",
    "\n",
    "\n",
    "plt.xticks(rotation=0,ticks=[0,90,179])\n",
    "plt.ylim(4000000,6000000)\n",
    "plt.xlabel('OSRS Bond')\n",
    "plt.yticks()\n",
    "ax.vlines(x='1639008000000',ymin=4000000,ymax=6000000,colors='red',linestyles='dashed')\n",
    "\n",
    "plt.xlabel('UTC timestamp')\n",
    "plt.ylabel('Price(Gp)')\n",
    "plt.title('Price of Oldschool Runescape Bond')\n",
    "plt.legend(labels=('Daily price','10 Rolling Avg','180 day Mean','Tax introduction'))\n",
    "plt.show()"
   ]
  },
  {
   "cell_type": "markdown",
   "id": "11778bb7-1efd-44b1-be61-fe332ca4d7c1",
   "metadata": {},
   "source": [
    "The redline signifies when the Grand Exchange, the price peaks on the day of the tax but there is no indication on causation or correlation."
   ]
  },
  {
   "cell_type": "code",
   "execution_count": 21,
   "id": "da6e28e3-74ac-4f73-af9f-705a1e03ee86",
   "metadata": {},
   "outputs": [],
   "source": [
    "def getList(dict):\n",
    "    list = []\n",
    "    for key in dict.keys():\n",
    "        list.append(key)\n",
    "          \n",
    "    return list"
   ]
  },
  {
   "cell_type": "code",
   "execution_count": 23,
   "id": "f42865cd-15ae-405f-bc67-1709ca2b950b",
   "metadata": {},
   "outputs": [],
   "source": [
    "dict_keys = getList(full_dict)"
   ]
  },
  {
   "cell_type": "code",
   "execution_count": 24,
   "id": "7cd97772-4f29-427f-8c6f-33eaf378ba16",
   "metadata": {},
   "outputs": [],
   "source": [
    "for i in dict_keys:\n",
    "    for column in range(13):\n",
    "        # print(fullDict[i][column])\n",
    "        pass"
   ]
  },
  {
   "cell_type": "code",
   "execution_count": 26,
   "id": "cacdd1a3-f7be-423f-842b-23e4891de77b",
   "metadata": {},
   "outputs": [],
   "source": [
    "df_runes = pd.DataFrame.from_dict(full_dict).T"
   ]
  },
  {
   "cell_type": "code",
   "execution_count": 27,
   "id": "828784b7-b88a-48ce-93b3-2bf79e4d68dd",
   "metadata": {},
   "outputs": [],
   "source": [
    "df_runes.columns = ['Fire_rune','Water_rune','Air_rune','Earth_rune','Mind_rune','Body_rune','Death_rune','Nature_rune','Chaos_rune','Law_rune','Cosmic_rune','Blood_rune','Soul_rune']\n"
   ]
  },
  {
   "cell_type": "code",
   "execution_count": 28,
   "id": "d03ceec0-a509-49bc-a84a-34a519c20b40",
   "metadata": {},
   "outputs": [],
   "source": [
    "scaler = StandardScaler()\n",
    "df_r_scaled = scaler.fit_transform(df_runes)"
   ]
  },
  {
   "cell_type": "code",
   "execution_count": 29,
   "id": "bd29fc81-5993-4ffa-bba7-df362cb688f8",
   "metadata": {},
   "outputs": [
    {
     "data": {
      "image/png": "[encoded data removed]",
      "text/plain": [
       "<Figure size 720x576 with 1 Axes>"
      ]
     },
     "metadata": {
      "needs_background": "light"
     },
     "output_type": "display_data"
    }
   ],
   "source": [
    "df_runes.plot(figsize=(10,8),xticks=[1,90,180]);"
   ]
  },
  {
   "cell_type": "code",
   "execution_count": 30,
   "id": "c2f7e9f9-db52-41d2-a4d1-c0fa5eb88068",
   "metadata": {},
   "outputs": [
    {
     "data": {
      "text/html": [
       "<div>\n",
       "<style scoped>\n",
       "    .dataframe tbody tr th:only-of-type {\n",
       "        vertical-align: middle;\n",
       "    }\n",
       "\n",
       "    .dataframe tbody tr th {\n",
       "        vertical-align: top;\n",
       "    }\n",
       "\n",
       "    .dataframe thead th {\n",
       "        text-align: right;\n",
       "    }\n",
       "</style>\n",
       "<table border=\"1\" class=\"dataframe\">\n",
       "  <thead>\n",
       "    <tr style=\"text-align: right;\">\n",
       "      <th></th>\n",
       "      <th>Fire_rune</th>\n",
       "      <th>Water_rune</th>\n",
       "      <th>Air_rune</th>\n",
       "      <th>Earth_rune</th>\n",
       "      <th>Mind_rune</th>\n",
       "      <th>Body_rune</th>\n",
       "      <th>Death_rune</th>\n",
       "      <th>Nature_rune</th>\n",
       "      <th>Chaos_rune</th>\n",
       "      <th>Law_rune</th>\n",
       "      <th>Cosmic_rune</th>\n",
       "      <th>Blood_rune</th>\n",
       "      <th>Soul_rune</th>\n",
       "    </tr>\n",
       "  </thead>\n",
       "  <tbody>\n",
       "    <tr>\n",
       "      <th>1630540800000</th>\n",
       "      <td>5</td>\n",
       "      <td>4</td>\n",
       "      <td>5</td>\n",
       "      <td>5</td>\n",
       "      <td>1</td>\n",
       "      <td>5</td>\n",
       "      <td>181</td>\n",
       "      <td>194</td>\n",
       "      <td>46</td>\n",
       "      <td>149</td>\n",
       "      <td>153</td>\n",
       "      <td>425</td>\n",
       "      <td>156</td>\n",
       "    </tr>\n",
       "    <tr>\n",
       "      <th>1630627200000</th>\n",
       "      <td>5</td>\n",
       "      <td>5</td>\n",
       "      <td>5</td>\n",
       "      <td>5</td>\n",
       "      <td>2</td>\n",
       "      <td>4</td>\n",
       "      <td>183</td>\n",
       "      <td>198</td>\n",
       "      <td>46</td>\n",
       "      <td>155</td>\n",
       "      <td>145</td>\n",
       "      <td>425</td>\n",
       "      <td>158</td>\n",
       "    </tr>\n",
       "    <tr>\n",
       "      <th>1630713600000</th>\n",
       "      <td>5</td>\n",
       "      <td>5</td>\n",
       "      <td>5</td>\n",
       "      <td>5</td>\n",
       "      <td>3</td>\n",
       "      <td>5</td>\n",
       "      <td>184</td>\n",
       "      <td>198</td>\n",
       "      <td>47</td>\n",
       "      <td>157</td>\n",
       "      <td>137</td>\n",
       "      <td>425</td>\n",
       "      <td>158</td>\n",
       "    </tr>\n",
       "  </tbody>\n",
       "</table>\n",
       "</div>"
      ],
      "text/plain": [
       "               Fire_rune  Water_rune  Air_rune  Earth_rune  Mind_rune  \\\n",
       "1630540800000          5           4         5           5          1   \n",
       "1630627200000          5           5         5           5          2   \n",
       "1630713600000          5           5         5           5          3   \n",
       "\n",
       "               Body_rune  Death_rune  Nature_rune  Chaos_rune  Law_rune  \\\n",
       "1630540800000          5         181          194          46       149   \n",
       "1630627200000          4         183          198          46       155   \n",
       "1630713600000          5         184          198          47       157   \n",
       "\n",
       "               Cosmic_rune  Blood_rune  Soul_rune  \n",
       "1630540800000          153         425        156  \n",
       "1630627200000          145         425        158  \n",
       "1630713600000          137         425        158  "
      ]
     },
     "execution_count": 30,
     "metadata": {},
     "output_type": "execute_result"
    }
   ],
   "source": [
    "df_runes.head(3)"
   ]
  },
  {
   "cell_type": "code",
   "execution_count": 31,
   "id": "d528e6ef-8280-443a-8df6-aa6ee68f83ca",
   "metadata": {},
   "outputs": [
    {
     "data": {
      "image/png": "[encoded data removed]",
      "text/plain": [
       "<Figure size 720x576 with 1 Axes>"
      ]
     },
     "metadata": {
      "needs_background": "light"
     },
     "output_type": "display_data"
    }
   ],
   "source": [
    "fig, ax = plt.subplots(figsize=(10,8))\n",
    "\n",
    "ax.plot(df_runes.index, df_runes['Death_rune'], label='Death rune')\n",
    "ax.plot(df_runes.index, df_runes['Nature_rune'], label='Nature rune')\n",
    "\n",
    "plt.xticks(rotation=0,ticks=[0,90,179])\n",
    "\n",
    "ax.vlines(x='1639008000000',ymin=175,ymax=250,colors='red')\n",
    "\n",
    "plt.ylabel('Price(Gp)')\n",
    "plt.legend()\n",
    "plt.show()"
   ]
  },
  {
   "cell_type": "code",
   "execution_count": 32,
   "id": "4c63a343-020d-472b-a565-e0a557160267",
   "metadata": {},
   "outputs": [
    {
     "data": {
      "text/plain": [
       "numpy.ndarray"
      ]
     },
     "execution_count": 32,
     "metadata": {},
     "output_type": "execute_result"
    }
   ],
   "source": [
    "type(df_r_scaled)"
   ]
  },
  {
   "cell_type": "code",
   "execution_count": 33,
   "id": "af715cbc-dc86-44ff-abd3-0c48181b47c5",
   "metadata": {},
   "outputs": [
    {
     "name": "stdout",
     "output_type": "stream",
     "text": [
      "0\n",
      "1\n",
      "2\n",
      "3\n",
      "4\n",
      "5\n",
      "6\n",
      "7\n",
      "8\n",
      "9\n",
      "10\n",
      "11\n",
      "12\n"
     ]
    }
   ],
   "source": [
    "for column in pd.DataFrame(df_r_scaled).columns:\n",
    "    print(column)"
   ]
  },
  {
   "cell_type": "code",
   "execution_count": 34,
   "id": "f04960d1-47b4-424f-a9cb-5d1cc55d1fac",
   "metadata": {},
   "outputs": [],
   "source": [
    "# for column in pd.DataFrame(df_r_scaled).columns:\n",
    "#     ax.plot(df_runes.index, df_runes[column], label='Death rune')\n",
    "\n",
    "#     plt.xticks(rotation=0,ticks=[0,90,179])\n",
    "\n",
    "#     ax.vlines(x='1639008000000',ymin=175,ymax=250,colors='red')\n",
    "\n",
    "#     plt.ylabel('Price(Gp)')\n",
    "#     plt.legend()\n",
    "# plt.show()"
   ]
  },
  {
   "cell_type": "code",
   "execution_count": 35,
   "id": "97ef8eb9-dacb-4ff6-b196-e52c2cc64946",
   "metadata": {},
   "outputs": [
    {
     "data": {
      "image/png": "[encoded data removed]",
      "text/plain": [
       "<Figure size 720x864 with 13 Axes>"
      ]
     },
     "metadata": {
      "needs_background": "light"
     },
     "output_type": "display_data"
    }
   ],
   "source": [
    "pd.DataFrame(df_r_scaled).plot(subplots=True,figsize=(10,12), legend=False);"
   ]
  },
  {
   "cell_type": "markdown",
   "id": "e103da02-f62e-4c60-bd80-a484ae27a0fd",
   "metadata": {},
   "source": [
    "A tax was added to the oldschool runescape grand exchange on December 9th 2021 (1639008000000 Epoch).\n",
    "\n",
    "https://secure.runescape.com/m=news/grand-exchange-tax--item-sink?oldschool=1"
   ]
  },
  {
   "cell_type": "markdown",
   "id": "1489246e-f436-4a7c-babc-a3cd9c2c4b10",
   "metadata": {},
   "source": [
    "### Finding what items are tradable on Grand Exchange using OSRSBox"
   ]
  },
  {
   "cell_type": "code",
   "execution_count": 36,
   "id": "42e5bf66-d599-4a20-b76e-4a3013bb3496",
   "metadata": {},
   "outputs": [
    {
     "name": "stdout",
     "output_type": "stream",
     "text": [
      "Requirement already satisfied: osrsbox in /Users/brockbigalke/opt/anaconda3/lib/python3.9/site-packages (2.2.3)\n",
      "Requirement already satisfied: dataclasses in /Users/brockbigalke/opt/anaconda3/lib/python3.9/site-packages (from osrsbox) (0.6)\n"
     ]
    }
   ],
   "source": [
    "!pip install osrsbox\n"
   ]
  },
  {
   "cell_type": "code",
   "execution_count": 38,
   "id": "7f56073c-065c-4107-a9b0-f881a237c404",
   "metadata": {},
   "outputs": [],
   "source": [
    "from osrsbox import items_api\n",
    "items = items_api.load()\n",
    "tradable_ge = {}\n",
    "for item in items:\n",
    "    if item.tradeable_on_ge == True:\n",
    "        tradable_ge[item.name] = item.id\n",
    "    else: \n",
    "        continue"
   ]
  },
  {
   "cell_type": "code",
   "execution_count": 39,
   "id": "ed4cb2a2-90c2-407a-89ec-2ca09a4ed09c",
   "metadata": {},
   "outputs": [
    {
     "data": {
      "text/plain": [
       "{'Fishing mix(2)': 11477,\n",
       " 'Fishing mix(1)': 11479,\n",
       " 'Super energy mix(2)': 11481,\n",
       " 'Super energy mix(1)': 11483,\n",
       " 'Super str. mix(2)': 11485}"
      ]
     },
     "execution_count": 39,
     "metadata": {},
     "output_type": "execute_result"
    }
   ],
   "source": [
    "dict(list(tradable_ge.items())[2500:2505]) #tradable_ge is a dictionary containing all items from osrsbox that are tradable on the in game market."
   ]
  },
  {
   "cell_type": "code",
   "execution_count": 45,
   "id": "66dd98b3-e533-412e-ad40-125e01e92b6f",
   "metadata": {},
   "outputs": [
    {
     "data": {
      "text/plain": [
       "3759"
      ]
     },
     "execution_count": 45,
     "metadata": {},
     "output_type": "execute_result"
    }
   ],
   "source": [
    "len(tradable_ge) #number of tradable items on the grand exchange"
   ]
  },
  {
   "cell_type": "code",
   "execution_count": 44,
   "id": "2619a68b-cdb7-41fb-b3d5-bb9a01626452",
   "metadata": {},
   "outputs": [
    {
     "data": {
      "text/plain": [
       "2"
      ]
     },
     "execution_count": 44,
     "metadata": {},
     "output_type": "execute_result"
    }
   ],
   "source": [
    "tradable_ge['Cannonball'] #testing if item name is entered if correct item_id it output"
   ]
  },
  {
   "cell_type": "code",
   "execution_count": 42,
   "id": "6133dc41-2213-4c91-8c19-8d781c7384b9",
   "metadata": {},
   "outputs": [
    {
     "data": {
      "text/html": [
       "<div>\n",
       "<style scoped>\n",
       "    .dataframe tbody tr th:only-of-type {\n",
       "        vertical-align: middle;\n",
       "    }\n",
       "\n",
       "    .dataframe tbody tr th {\n",
       "        vertical-align: top;\n",
       "    }\n",
       "\n",
       "    .dataframe thead th {\n",
       "        text-align: right;\n",
       "    }\n",
       "</style>\n",
       "<table border=\"1\" class=\"dataframe\">\n",
       "  <thead>\n",
       "    <tr style=\"text-align: right;\">\n",
       "      <th></th>\n",
       "      <th>items</th>\n",
       "    </tr>\n",
       "  </thead>\n",
       "  <tbody>\n",
       "    <tr>\n",
       "      <th>0</th>\n",
       "      <td>3rd age pickaxe</td>\n",
       "    </tr>\n",
       "    <tr>\n",
       "      <th>1</th>\n",
       "      <td>3rd age druidic robe top</td>\n",
       "    </tr>\n",
       "    <tr>\n",
       "      <th>2</th>\n",
       "      <td>3rd age druidic robe bottoms</td>\n",
       "    </tr>\n",
       "    <tr>\n",
       "      <th>3</th>\n",
       "      <td>Elysian sigil</td>\n",
       "    </tr>\n",
       "    <tr>\n",
       "      <th>4</th>\n",
       "      <td>3rd age druidic cloak</td>\n",
       "    </tr>\n",
       "    <tr>\n",
       "      <th>5</th>\n",
       "      <td>Twisted bow</td>\n",
       "    </tr>\n",
       "    <tr>\n",
       "      <th>6</th>\n",
       "      <td>3rd age bow</td>\n",
       "    </tr>\n",
       "    <tr>\n",
       "      <th>7</th>\n",
       "      <td>Elysian spirit shield</td>\n",
       "    </tr>\n",
       "    <tr>\n",
       "      <th>8</th>\n",
       "      <td>3rd age druidic staff</td>\n",
       "    </tr>\n",
       "    <tr>\n",
       "      <th>9</th>\n",
       "      <td>Harmonised orb</td>\n",
       "    </tr>\n",
       "    <tr>\n",
       "      <th>10</th>\n",
       "      <td>Zaryte crossbow</td>\n",
       "    </tr>\n",
       "    <tr>\n",
       "      <th>11</th>\n",
       "      <td>3rd age axe</td>\n",
       "    </tr>\n",
       "    <tr>\n",
       "      <th>12</th>\n",
       "      <td>Torva platebody</td>\n",
       "    </tr>\n",
       "    <tr>\n",
       "      <th>13</th>\n",
       "      <td>Torva platelegs</td>\n",
       "    </tr>\n",
       "    <tr>\n",
       "      <th>14</th>\n",
       "      <td>Scythe of vitur (uncharged)</td>\n",
       "    </tr>\n",
       "  </tbody>\n",
       "</table>\n",
       "</div>"
      ],
      "text/plain": [
       "                           items\n",
       "0                3rd age pickaxe\n",
       "1       3rd age druidic robe top\n",
       "2   3rd age druidic robe bottoms\n",
       "3                  Elysian sigil\n",
       "4          3rd age druidic cloak\n",
       "5                    Twisted bow\n",
       "6                    3rd age bow\n",
       "7          Elysian spirit shield\n",
       "8          3rd age druidic staff\n",
       "9                 Harmonised orb\n",
       "10               Zaryte crossbow\n",
       "11                   3rd age axe\n",
       "12               Torva platebody\n",
       "13               Torva platelegs\n",
       "14   Scythe of vitur (uncharged)"
      ]
     },
     "execution_count": 42,
     "metadata": {},
     "output_type": "execute_result"
    }
   ],
   "source": [
    "top_three_df = pd.read_csv('./data/top_three_hundred_items.csv')\n",
    "top_three_df.head(15)"
   ]
  },
  {
   "cell_type": "code",
   "execution_count": 46,
   "id": "31221a2f-74ea-48be-9b81-dbc7fdc51120",
   "metadata": {},
   "outputs": [],
   "source": [
    "list_new_items = ['Zaryte crossbow','Torva platebody', 'Torva platelegs','Torva platelegs (damaged)','Torva platebody (damaged)','Nihil horn','Torva full helm','Torva full helm (damaged)','Zaryte vambraces','Ancient godsword','Ancient hilt','Condensed gold','Shattered relic hunter (t3) armour set']"
   ]
  },
  {
   "cell_type": "code",
   "execution_count": 124,
   "id": "4167336a-e645-4c10-8f10-43474b63fb8c",
   "metadata": {
    "tags": []
   },
   "outputs": [],
   "source": [
    "valuable_items_df = []\n",
    "for i in top_three_df['items']:\n",
    "    if i not in list_new_items:\n",
    "        valuable_items_df  += [i]\n",
    "        # print(tradable_ge[i])"
   ]
  },
  {
   "cell_type": "code",
   "execution_count": 125,
   "id": "0f82cd0c-7aaa-4b8f-b250-8206b47db564",
   "metadata": {},
   "outputs": [
    {
     "data": {
      "text/plain": [
       "(287, 13)"
      ]
     },
     "execution_count": 125,
     "metadata": {},
     "output_type": "execute_result"
    }
   ],
   "source": [
    "len(valuable_items_df), len(list_new_items) # removing new items from list of top three hundred valuable items because there will not be "
   ]
  },
  {
   "cell_type": "code",
   "execution_count": 120,
   "id": "9488ba40-c8b7-425f-916f-2a57ff3d970c",
   "metadata": {},
   "outputs": [],
   "source": [
    "short_ge = list(tradable_ge.values())[1:10]"
   ]
  },
  {
   "cell_type": "markdown",
   "id": "ae4e8a29-8331-4681-aa24-f3225191b8cf",
   "metadata": {},
   "source": [
    "## Creating dataframe"
   ]
  },
  {
   "cell_type": "code",
   "execution_count": 117,
   "id": "2b4d42b0-cd90-4c71-bf07-55c23d3470c2",
   "metadata": {
    "tags": []
   },
   "outputs": [],
   "source": [
    "df = pd.DataFrame()\n",
    "# for item in tradable_ge.values():\n",
    "for item in short_ge:\n",
    "    \n",
    "    df = df.append(osrs_api(str(item)))\n",
    "    # df += osrs_api(str(item))\n",
    "    # time.sleep(random.randrange(1, 4))\n",
    "    # print(osrs_api(str(item)))"
   ]
  },
  {
   "cell_type": "code",
   "execution_count": 118,
   "id": "0cfb9d30-e862-4e19-a6dc-b8f97f625460",
   "metadata": {},
   "outputs": [
    {
     "data": {
      "text/html": [
       "<div>\n",
       "<style scoped>\n",
       "    .dataframe tbody tr th:only-of-type {\n",
       "        vertical-align: middle;\n",
       "    }\n",
       "\n",
       "    .dataframe tbody tr th {\n",
       "        vertical-align: top;\n",
       "    }\n",
       "\n",
       "    .dataframe thead th {\n",
       "        text-align: right;\n",
       "    }\n",
       "</style>\n",
       "<table border=\"1\" class=\"dataframe\">\n",
       "  <thead>\n",
       "    <tr style=\"text-align: right;\">\n",
       "      <th></th>\n",
       "      <th>names</th>\n",
       "      <th>prices</th>\n",
       "    </tr>\n",
       "  </thead>\n",
       "  <tbody>\n",
       "    <tr>\n",
       "      <th>0</th>\n",
       "      <td>Cannon base</td>\n",
       "      <td>183500.0</td>\n",
       "    </tr>\n",
       "    <tr>\n",
       "      <th>0</th>\n",
       "      <td>Cannon stand</td>\n",
       "      <td>186400.0</td>\n",
       "    </tr>\n",
       "    <tr>\n",
       "      <th>0</th>\n",
       "      <td>Cannon barrels</td>\n",
       "      <td>183800.0</td>\n",
       "    </tr>\n",
       "    <tr>\n",
       "      <th>0</th>\n",
       "      <td>Cannon furnace</td>\n",
       "      <td>190700.0</td>\n",
       "    </tr>\n",
       "    <tr>\n",
       "      <th>0</th>\n",
       "      <td>Insect repellent</td>\n",
       "      <td>52.0</td>\n",
       "    </tr>\n",
       "    <tr>\n",
       "      <th>0</th>\n",
       "      <td>Bucket of wax</td>\n",
       "      <td>752.0</td>\n",
       "    </tr>\n",
       "    <tr>\n",
       "      <th>0</th>\n",
       "      <td>Candle</td>\n",
       "      <td>319.0</td>\n",
       "    </tr>\n",
       "    <tr>\n",
       "      <th>0</th>\n",
       "      <td>Bronze arrowtips</td>\n",
       "      <td>2.0</td>\n",
       "    </tr>\n",
       "    <tr>\n",
       "      <th>0</th>\n",
       "      <td>Iron arrowtips</td>\n",
       "      <td>6.0</td>\n",
       "    </tr>\n",
       "  </tbody>\n",
       "</table>\n",
       "</div>"
      ],
      "text/plain": [
       "              names    prices\n",
       "0       Cannon base  183500.0\n",
       "0      Cannon stand  186400.0\n",
       "0    Cannon barrels  183800.0\n",
       "0    Cannon furnace  190700.0\n",
       "0  Insect repellent      52.0\n",
       "0     Bucket of wax     752.0\n",
       "0            Candle     319.0\n",
       "0  Bronze arrowtips       2.0\n",
       "0    Iron arrowtips       6.0"
      ]
     },
     "execution_count": 118,
     "metadata": {},
     "output_type": "execute_result"
    }
   ],
   "source": [
    "df"
   ]
  },
  {
   "cell_type": "code",
   "execution_count": null,
   "id": "b703fd3d-b2d8-4902-b7c7-f94c26b21b3c",
   "metadata": {},
   "outputs": [],
   "source": [
    "df = pd.DataFrame()\n",
    "for item in tradable_ge.values():\n",
    "for item in short_ge:\n",
    "    df = df.append(osrs_api(str(item)))"
   ]
  },
  {
   "cell_type": "code",
   "execution_count": 150,
   "id": "24868379-2b37-4d4d-984c-972382f6f629",
   "metadata": {
    "tags": []
   },
   "outputs": [],
   "source": [
    "df_top_three = pd.DataFrame()\n",
    "\n",
    "for item in valuable_items_df:\n",
    "    try: \n",
    "        item_ids = tradable_ge[item]\n",
    "        df_top_three = df_top_three.append(osrs_api(str(item_ids)))\n",
    "    except:\n",
    "        break\n",
    "    "
   ]
  },
  {
   "cell_type": "code",
   "execution_count": 151,
   "id": "56823c12-34e8-4e15-a134-95f65936c94b",
   "metadata": {},
   "outputs": [
    {
     "data": {
      "text/html": [
       "<div>\n",
       "<style scoped>\n",
       "    .dataframe tbody tr th:only-of-type {\n",
       "        vertical-align: middle;\n",
       "    }\n",
       "\n",
       "    .dataframe tbody tr th {\n",
       "        vertical-align: top;\n",
       "    }\n",
       "\n",
       "    .dataframe thead th {\n",
       "        text-align: right;\n",
       "    }\n",
       "</style>\n",
       "<table border=\"1\" class=\"dataframe\">\n",
       "  <thead>\n",
       "    <tr style=\"text-align: right;\">\n",
       "      <th></th>\n",
       "      <th>names</th>\n",
       "      <th>prices</th>\n",
       "    </tr>\n",
       "  </thead>\n",
       "  <tbody>\n",
       "    <tr>\n",
       "      <th>0</th>\n",
       "      <td>3rd age pickaxe</td>\n",
       "      <td>2.100000e+09</td>\n",
       "    </tr>\n",
       "    <tr>\n",
       "      <th>0</th>\n",
       "      <td>3rd age druidic robe top</td>\n",
       "      <td>2.000000e+09</td>\n",
       "    </tr>\n",
       "    <tr>\n",
       "      <th>0</th>\n",
       "      <td>3rd age druidic robe bottoms</td>\n",
       "      <td>1.900000e+09</td>\n",
       "    </tr>\n",
       "    <tr>\n",
       "      <th>0</th>\n",
       "      <td>Elysian sigil</td>\n",
       "      <td>1.100000e+09</td>\n",
       "    </tr>\n",
       "    <tr>\n",
       "      <th>0</th>\n",
       "      <td>3rd age druidic cloak</td>\n",
       "      <td>1.000000e+09</td>\n",
       "    </tr>\n",
       "    <tr>\n",
       "      <th>...</th>\n",
       "      <td>...</td>\n",
       "      <td>...</td>\n",
       "    </tr>\n",
       "    <tr>\n",
       "      <th>0</th>\n",
       "      <td>Ankou's leggings</td>\n",
       "      <td>1.170000e+07</td>\n",
       "    </tr>\n",
       "    <tr>\n",
       "      <th>0</th>\n",
       "      <td>Uncut zenyte</td>\n",
       "      <td>1.130000e+07</td>\n",
       "    </tr>\n",
       "    <tr>\n",
       "      <th>0</th>\n",
       "      <td>Elder maul</td>\n",
       "      <td>1.200000e+07</td>\n",
       "    </tr>\n",
       "    <tr>\n",
       "      <th>0</th>\n",
       "      <td>3rd age mage hat</td>\n",
       "      <td>1.160000e+07</td>\n",
       "    </tr>\n",
       "    <tr>\n",
       "      <th>0</th>\n",
       "      <td>Armadyl godsword</td>\n",
       "      <td>1.130000e+07</td>\n",
       "    </tr>\n",
       "  </tbody>\n",
       "</table>\n",
       "<p>114 rows × 2 columns</p>\n",
       "</div>"
      ],
      "text/plain": [
       "                           names        prices\n",
       "0                3rd age pickaxe  2.100000e+09\n",
       "0       3rd age druidic robe top  2.000000e+09\n",
       "0   3rd age druidic robe bottoms  1.900000e+09\n",
       "0                  Elysian sigil  1.100000e+09\n",
       "0          3rd age druidic cloak  1.000000e+09\n",
       "..                           ...           ...\n",
       "0               Ankou's leggings  1.170000e+07\n",
       "0                   Uncut zenyte  1.130000e+07\n",
       "0                     Elder maul  1.200000e+07\n",
       "0               3rd age mage hat  1.160000e+07\n",
       "0               Armadyl godsword  1.130000e+07\n",
       "\n",
       "[114 rows x 2 columns]"
      ]
     },
     "execution_count": 151,
     "metadata": {},
     "output_type": "execute_result"
    }
   ],
   "source": [
    "df_top_three"
   ]
  },
  {
   "cell_type": "code",
   "execution_count": 154,
   "id": "4a513a19-f6fd-40c9-92d4-4194b2291a2c",
   "metadata": {
    "collapsed": true,
    "jupyter": {
     "outputs_hidden": true
    },
    "tags": []
   },
   "outputs": [
    {
     "data": {
      "text/plain": [
       "['Justiciar chestguard',\n",
       " 'Dragon platebody ornament kit',\n",
       " \"Vesta's longsword\",\n",
       " \"Statius's warhammer\",\n",
       " \"Vesta's spear\",\n",
       " \"Zuriel's staff\",\n",
       " 'Gilded armour set (sk)',\n",
       " 'Zenyte shard',\n",
       " 'Cape of skulls',\n",
       " 'Eternal gem',\n",
       " 'Ancestral hat',\n",
       " \"Dinh's bulwark\",\n",
       " '3rd age range coif',\n",
       " 'Armadyl hilt',\n",
       " 'Anguish ornament kit',\n",
       " 'Crystal armour seed',\n",
       " \"Dagon'hai robes set\",\n",
       " 'Jar of darkness',\n",
       " 'Toxic staff (uncharged)',\n",
       " 'Armadyl helmet',\n",
       " 'Ancient effigy',\n",
       " 'Ankou mask',\n",
       " 'Uncharged toxic trident (e)',\n",
       " \"Bryophyta's staff (uncharged)\",\n",
       " \"Gilded d'hide vambraces\",\n",
       " 'Target teleport scroll',\n",
       " 'Crystal tool seed',\n",
       " '3rd age vambraces',\n",
       " \"Viggora's chainmace (u)\",\n",
       " \"Bryophyta's essence\",\n",
       " 'Rune pouch note',\n",
       " 'Staff of the dead',\n",
       " \"Saradomin's tear\",\n",
       " 'Smouldering stone',\n",
       " 'Gilded pickaxe',\n",
       " 'Hydra leather',\n",
       " 'Staff of light',\n",
       " 'Gilded axe',\n",
       " 'Old school bond',\n",
       " 'Dragon pickaxe',\n",
       " \"Pirate's hook\",\n",
       " \"Monk's robe top (g)\",\n",
       " \"Dagon'hai robe top\",\n",
       " 'Ankou gloves',\n",
       " 'Gilded platelegs',\n",
       " \"Rangers' tunic\",\n",
       " \"Ahrim's armour set\",\n",
       " 'Torture ornament kit',\n",
       " \"Karil's armour set\",\n",
       " 'Archers ring',\n",
       " 'Zamorak godsword',\n",
       " 'Blood shard',\n",
       " 'Flared trousers',\n",
       " \"Mage's book\",\n",
       " 'Team cape zero',\n",
       " 'Ancient medallion',\n",
       " 'Occult ornament kit',\n",
       " 'Uncharged trident (e)',\n",
       " 'Dragonstone armour set',\n",
       " 'Ham joint',\n",
       " 'Gilded platebody',\n",
       " 'Brimstone ring',\n",
       " \"Dharok's armour set\",\n",
       " 'Guardian boots',\n",
       " 'Dragonfire shield',\n",
       " \"Thammaron's sceptre (u)\",\n",
       " 'Draconic visage',\n",
       " 'Master wand',\n",
       " \"Karil's leathertop\",\n",
       " 'Abyssal dagger (p)',\n",
       " 'Abyssal dagger (p+)',\n",
       " 'Abyssal dagger (p++)',\n",
       " \"Karil's leathertop 0\",\n",
       " 'Abyssal dagger',\n",
       " 'Gilded 2h sword',\n",
       " 'Bandos godsword ornament kit',\n",
       " 'Gilded boots',\n",
       " 'Gilded spade',\n",
       " 'Odium ward',\n",
       " 'Elven signet',\n",
       " 'Gilded kiteshield',\n",
       " 'Zamorak hilt',\n",
       " 'Eternal boots',\n",
       " 'Gilded full helm',\n",
       " 'Fremennik kilt',\n",
       " 'Lava dragon mask',\n",
       " \"Pharaoh's sceptre (3)\",\n",
       " \"Pharaoh's sceptre\",\n",
       " 'Dragon kiteshield ornament kit',\n",
       " 'Infinity bottoms',\n",
       " 'Trailblazer relic hunter (t3) armour set',\n",
       " 'Black tourmaline core',\n",
       " 'Twisted relic hunter (t3) armour set',\n",
       " 'Infinity top',\n",
       " 'Toxic blowpipe (empty)',\n",
       " 'Uncharged toxic trident',\n",
       " 'Trouver parchment',\n",
       " 'Serpentine helm (uncharged)',\n",
       " 'Tanzanite fang',\n",
       " 'Enhanced crystal teleport seed',\n",
       " 'Ankou socks',\n",
       " 'Berserker ring',\n",
       " 'Serpentine visage',\n",
       " 'Magic fang',\n",
       " 'Infinity hat',\n",
       " 'Malediction ward',\n",
       " 'Abyssal whip',\n",
       " \"Guthan's armour set\",\n",
       " \"Dagon'hai robe bottom\",\n",
       " 'Tormented ornament kit',\n",
       " 'Dragon platebody',\n",
       " \"Gilded d'hide body\",\n",
       " 'Onyx amulet (u)',\n",
       " \"Ahrim's robetop\",\n",
       " 'Obsidian armour set',\n",
       " 'Amulet of fury',\n",
       " 'Mystic smoke staff',\n",
       " 'Volcanic whip mix',\n",
       " 'Frozen whip mix',\n",
       " 'Smoke battlestaff',\n",
       " 'Regen bracelet',\n",
       " 'Berserker necklace',\n",
       " 'Ancient statuette',\n",
       " 'Light tuxedo jacket',\n",
       " \"Ahrim's robetop 0\",\n",
       " 'Eternal crystal',\n",
       " 'Team cape x',\n",
       " 'Uncut onyx',\n",
       " 'Saradomin godsword ornament kit',\n",
       " 'Teacher wand',\n",
       " 'Robin hood hat',\n",
       " 'Onyx',\n",
       " 'Dragon metal shard',\n",
       " 'Merfolk trident',\n",
       " \"Ahrim's robeskirt\",\n",
       " 'Devout boots',\n",
       " 'Dark tuxedo jacket',\n",
       " 'Ring of 3rd age',\n",
       " 'Onyx amulet',\n",
       " \"Ahrim's robeskirt 0\",\n",
       " 'Holy sandals',\n",
       " 'Zamorak dragonhide set',\n",
       " 'Onyx bracelet',\n",
       " 'Team cape i',\n",
       " 'Tyrannical ring',\n",
       " 'Onyx necklace',\n",
       " 'Odium shard 2',\n",
       " 'Dark trousers',\n",
       " 'Dragonstone platelegs',\n",
       " 'Stale baguette',\n",
       " \"Monk's robe (g)\",\n",
       " 'White dark bow paint',\n",
       " 'Armadyl dragonhide set',\n",
       " 'Granite clamp',\n",
       " 'Ward upgrade kit',\n",
       " 'Gnome scarf',\n",
       " 'Arcane prayer scroll',\n",
       " 'Saradomin dragonhide set',\n",
       " 'Onyx ring',\n",
       " \"Dharok's platelegs\",\n",
       " \"Dagon'hai hat\",\n",
       " 'Trailblazer top (t3)',\n",
       " 'Blue dark bow paint',\n",
       " 'Ornate maul handle',\n",
       " 'Jar of stone',\n",
       " 'Bucket helm (g)',\n",
       " 'Dragon pickaxe upgrade kit',\n",
       " 'Dragon harpoon',\n",
       " 'Dragonstone full helm',\n",
       " \"Dharok's platelegs 0\",\n",
       " 'Obsidian cape (r)',\n",
       " 'Amulet of power (t)',\n",
       " 'Black mask']"
      ]
     },
     "execution_count": 154,
     "metadata": {},
     "output_type": "execute_result"
    }
   ],
   "source": [
    "valuable_items_df[114:]"
   ]
  },
  {
   "cell_type": "code",
   "execution_count": 155,
   "id": "de427f56-17f7-409f-aafe-b4f32fb2e9a1",
   "metadata": {},
   "outputs": [],
   "source": [
    "for item in valuable_items_df[114:]: #the api is running into issues, I will have to run the function multiple times to get the full df\n",
    "    try: \n",
    "        item_ids = tradable_ge[item]\n",
    "        df_top_three = df_top_three.append(osrs_api(str(item_ids)))\n",
    "    except:\n",
    "        break"
   ]
  },
  {
   "cell_type": "code",
   "execution_count": 156,
   "id": "d6f47fc5-761f-4709-ab99-2c18039af6c7",
   "metadata": {},
   "outputs": [
    {
     "data": {
      "text/html": [
       "<div>\n",
       "<style scoped>\n",
       "    .dataframe tbody tr th:only-of-type {\n",
       "        vertical-align: middle;\n",
       "    }\n",
       "\n",
       "    .dataframe tbody tr th {\n",
       "        vertical-align: top;\n",
       "    }\n",
       "\n",
       "    .dataframe thead th {\n",
       "        text-align: right;\n",
       "    }\n",
       "</style>\n",
       "<table border=\"1\" class=\"dataframe\">\n",
       "  <thead>\n",
       "    <tr style=\"text-align: right;\">\n",
       "      <th></th>\n",
       "      <th>names</th>\n",
       "      <th>prices</th>\n",
       "    </tr>\n",
       "  </thead>\n",
       "  <tbody>\n",
       "    <tr>\n",
       "      <th>0</th>\n",
       "      <td>3rd age pickaxe</td>\n",
       "      <td>2.100000e+09</td>\n",
       "    </tr>\n",
       "    <tr>\n",
       "      <th>0</th>\n",
       "      <td>3rd age druidic robe top</td>\n",
       "      <td>2.000000e+09</td>\n",
       "    </tr>\n",
       "    <tr>\n",
       "      <th>0</th>\n",
       "      <td>3rd age druidic robe bottoms</td>\n",
       "      <td>1.900000e+09</td>\n",
       "    </tr>\n",
       "    <tr>\n",
       "      <th>0</th>\n",
       "      <td>Elysian sigil</td>\n",
       "      <td>1.100000e+09</td>\n",
       "    </tr>\n",
       "    <tr>\n",
       "      <th>0</th>\n",
       "      <td>3rd age druidic cloak</td>\n",
       "      <td>1.000000e+09</td>\n",
       "    </tr>\n",
       "    <tr>\n",
       "      <th>...</th>\n",
       "      <td>...</td>\n",
       "      <td>...</td>\n",
       "    </tr>\n",
       "    <tr>\n",
       "      <th>0</th>\n",
       "      <td>Armadyl helmet</td>\n",
       "      <td>1.000000e+07</td>\n",
       "    </tr>\n",
       "    <tr>\n",
       "      <th>0</th>\n",
       "      <td>Ancient effigy</td>\n",
       "      <td>8.000000e+06</td>\n",
       "    </tr>\n",
       "    <tr>\n",
       "      <th>0</th>\n",
       "      <td>Ankou mask</td>\n",
       "      <td>8.100000e+06</td>\n",
       "    </tr>\n",
       "    <tr>\n",
       "      <th>0</th>\n",
       "      <td>Uncharged toxic trident (e)</td>\n",
       "      <td>8.500000e+06</td>\n",
       "    </tr>\n",
       "    <tr>\n",
       "      <th>0</th>\n",
       "      <td>Bryophyta's staff (uncharged)</td>\n",
       "      <td>7.600000e+06</td>\n",
       "    </tr>\n",
       "  </tbody>\n",
       "</table>\n",
       "<p>138 rows × 2 columns</p>\n",
       "</div>"
      ],
      "text/plain": [
       "                            names        prices\n",
       "0                 3rd age pickaxe  2.100000e+09\n",
       "0        3rd age druidic robe top  2.000000e+09\n",
       "0    3rd age druidic robe bottoms  1.900000e+09\n",
       "0                   Elysian sigil  1.100000e+09\n",
       "0           3rd age druidic cloak  1.000000e+09\n",
       "..                            ...           ...\n",
       "0                  Armadyl helmet  1.000000e+07\n",
       "0                  Ancient effigy  8.000000e+06\n",
       "0                      Ankou mask  8.100000e+06\n",
       "0     Uncharged toxic trident (e)  8.500000e+06\n",
       "0   Bryophyta's staff (uncharged)  7.600000e+06\n",
       "\n",
       "[138 rows x 2 columns]"
      ]
     },
     "execution_count": 156,
     "metadata": {},
     "output_type": "execute_result"
    }
   ],
   "source": [
    "df_top_three"
   ]
  },
  {
   "cell_type": "code",
   "execution_count": 160,
   "id": "b0cc91e2-5a21-40af-a5de-bc6125d14bcb",
   "metadata": {},
   "outputs": [],
   "source": [
    "for item in valuable_items_df[138:]: #continued api pulls\n",
    "    try: \n",
    "        item_ids = tradable_ge[item]\n",
    "        df_top_three = df_top_three.append(osrs_api(str(item_ids)))\n",
    "    except:\n",
    "        break"
   ]
  },
  {
   "cell_type": "code",
   "execution_count": 161,
   "id": "fc94c451-bfd3-4477-a67f-4287905f1a6d",
   "metadata": {},
   "outputs": [
    {
     "data": {
      "text/html": [
       "<div>\n",
       "<style scoped>\n",
       "    .dataframe tbody tr th:only-of-type {\n",
       "        vertical-align: middle;\n",
       "    }\n",
       "\n",
       "    .dataframe tbody tr th {\n",
       "        vertical-align: top;\n",
       "    }\n",
       "\n",
       "    .dataframe thead th {\n",
       "        text-align: right;\n",
       "    }\n",
       "</style>\n",
       "<table border=\"1\" class=\"dataframe\">\n",
       "  <thead>\n",
       "    <tr style=\"text-align: right;\">\n",
       "      <th></th>\n",
       "      <th>names</th>\n",
       "      <th>prices</th>\n",
       "    </tr>\n",
       "  </thead>\n",
       "  <tbody>\n",
       "    <tr>\n",
       "      <th>0</th>\n",
       "      <td>3rd age pickaxe</td>\n",
       "      <td>2.100000e+09</td>\n",
       "    </tr>\n",
       "    <tr>\n",
       "      <th>0</th>\n",
       "      <td>3rd age druidic robe top</td>\n",
       "      <td>2.000000e+09</td>\n",
       "    </tr>\n",
       "    <tr>\n",
       "      <th>0</th>\n",
       "      <td>3rd age druidic robe bottoms</td>\n",
       "      <td>1.900000e+09</td>\n",
       "    </tr>\n",
       "    <tr>\n",
       "      <th>0</th>\n",
       "      <td>Elysian sigil</td>\n",
       "      <td>1.100000e+09</td>\n",
       "    </tr>\n",
       "    <tr>\n",
       "      <th>0</th>\n",
       "      <td>3rd age druidic cloak</td>\n",
       "      <td>1.000000e+09</td>\n",
       "    </tr>\n",
       "    <tr>\n",
       "      <th>...</th>\n",
       "      <td>...</td>\n",
       "      <td>...</td>\n",
       "    </tr>\n",
       "    <tr>\n",
       "      <th>0</th>\n",
       "      <td>Flared trousers</td>\n",
       "      <td>4.500000e+06</td>\n",
       "    </tr>\n",
       "    <tr>\n",
       "      <th>0</th>\n",
       "      <td>Mage's book</td>\n",
       "      <td>4.000000e+06</td>\n",
       "    </tr>\n",
       "    <tr>\n",
       "      <th>0</th>\n",
       "      <td>Team cape zero</td>\n",
       "      <td>4.100000e+06</td>\n",
       "    </tr>\n",
       "    <tr>\n",
       "      <th>0</th>\n",
       "      <td>Ancient medallion</td>\n",
       "      <td>4.000000e+06</td>\n",
       "    </tr>\n",
       "    <tr>\n",
       "      <th>0</th>\n",
       "      <td>Occult ornament kit</td>\n",
       "      <td>4.000000e+06</td>\n",
       "    </tr>\n",
       "  </tbody>\n",
       "</table>\n",
       "<p>171 rows × 2 columns</p>\n",
       "</div>"
      ],
      "text/plain": [
       "                           names        prices\n",
       "0                3rd age pickaxe  2.100000e+09\n",
       "0       3rd age druidic robe top  2.000000e+09\n",
       "0   3rd age druidic robe bottoms  1.900000e+09\n",
       "0                  Elysian sigil  1.100000e+09\n",
       "0          3rd age druidic cloak  1.000000e+09\n",
       "..                           ...           ...\n",
       "0                Flared trousers  4.500000e+06\n",
       "0                    Mage's book  4.000000e+06\n",
       "0                 Team cape zero  4.100000e+06\n",
       "0              Ancient medallion  4.000000e+06\n",
       "0            Occult ornament kit  4.000000e+06\n",
       "\n",
       "[171 rows x 2 columns]"
      ]
     },
     "execution_count": 161,
     "metadata": {},
     "output_type": "execute_result"
    }
   ],
   "source": [
    "df_top_three"
   ]
  },
  {
   "cell_type": "code",
   "execution_count": 162,
   "id": "7bc8db08-0672-42f5-8265-801be45a862c",
   "metadata": {},
   "outputs": [],
   "source": [
    "for item in valuable_items_df[171:]: #continued api pulls\n",
    "    try: \n",
    "        item_ids = tradable_ge[item]\n",
    "        df_top_three = df_top_three.append(osrs_api(str(item_ids)))\n",
    "    except:\n",
    "        break"
   ]
  },
  {
   "cell_type": "code",
   "execution_count": 163,
   "id": "0cae048e-4e78-45eb-bc03-200861433ce6",
   "metadata": {},
   "outputs": [
    {
     "data": {
      "text/html": [
       "<div>\n",
       "<style scoped>\n",
       "    .dataframe tbody tr th:only-of-type {\n",
       "        vertical-align: middle;\n",
       "    }\n",
       "\n",
       "    .dataframe tbody tr th {\n",
       "        vertical-align: top;\n",
       "    }\n",
       "\n",
       "    .dataframe thead th {\n",
       "        text-align: right;\n",
       "    }\n",
       "</style>\n",
       "<table border=\"1\" class=\"dataframe\">\n",
       "  <thead>\n",
       "    <tr style=\"text-align: right;\">\n",
       "      <th></th>\n",
       "      <th>names</th>\n",
       "      <th>prices</th>\n",
       "    </tr>\n",
       "  </thead>\n",
       "  <tbody>\n",
       "    <tr>\n",
       "      <th>0</th>\n",
       "      <td>3rd age pickaxe</td>\n",
       "      <td>2.100000e+09</td>\n",
       "    </tr>\n",
       "    <tr>\n",
       "      <th>0</th>\n",
       "      <td>3rd age druidic robe top</td>\n",
       "      <td>2.000000e+09</td>\n",
       "    </tr>\n",
       "    <tr>\n",
       "      <th>0</th>\n",
       "      <td>3rd age druidic robe bottoms</td>\n",
       "      <td>1.900000e+09</td>\n",
       "    </tr>\n",
       "    <tr>\n",
       "      <th>0</th>\n",
       "      <td>Elysian sigil</td>\n",
       "      <td>1.100000e+09</td>\n",
       "    </tr>\n",
       "    <tr>\n",
       "      <th>0</th>\n",
       "      <td>3rd age druidic cloak</td>\n",
       "      <td>1.000000e+09</td>\n",
       "    </tr>\n",
       "    <tr>\n",
       "      <th>...</th>\n",
       "      <td>...</td>\n",
       "      <td>...</td>\n",
       "    </tr>\n",
       "    <tr>\n",
       "      <th>0</th>\n",
       "      <td>Abyssal dagger (p)</td>\n",
       "      <td>3.100000e+06</td>\n",
       "    </tr>\n",
       "    <tr>\n",
       "      <th>0</th>\n",
       "      <td>Abyssal dagger (p+)</td>\n",
       "      <td>3.100000e+06</td>\n",
       "    </tr>\n",
       "    <tr>\n",
       "      <th>0</th>\n",
       "      <td>Abyssal dagger (p++)</td>\n",
       "      <td>3.000000e+06</td>\n",
       "    </tr>\n",
       "    <tr>\n",
       "      <th>0</th>\n",
       "      <td>Karil's leathertop 0</td>\n",
       "      <td>3.300000e+06</td>\n",
       "    </tr>\n",
       "    <tr>\n",
       "      <th>0</th>\n",
       "      <td>Abyssal dagger</td>\n",
       "      <td>3.000000e+06</td>\n",
       "    </tr>\n",
       "  </tbody>\n",
       "</table>\n",
       "<p>188 rows × 2 columns</p>\n",
       "</div>"
      ],
      "text/plain": [
       "                           names        prices\n",
       "0                3rd age pickaxe  2.100000e+09\n",
       "0       3rd age druidic robe top  2.000000e+09\n",
       "0   3rd age druidic robe bottoms  1.900000e+09\n",
       "0                  Elysian sigil  1.100000e+09\n",
       "0          3rd age druidic cloak  1.000000e+09\n",
       "..                           ...           ...\n",
       "0             Abyssal dagger (p)  3.100000e+06\n",
       "0            Abyssal dagger (p+)  3.100000e+06\n",
       "0           Abyssal dagger (p++)  3.000000e+06\n",
       "0           Karil's leathertop 0  3.300000e+06\n",
       "0                 Abyssal dagger  3.000000e+06\n",
       "\n",
       "[188 rows x 2 columns]"
      ]
     },
     "execution_count": 163,
     "metadata": {},
     "output_type": "execute_result"
    }
   ],
   "source": [
    "df_top_three"
   ]
  },
  {
   "cell_type": "code",
   "execution_count": 164,
   "id": "a73f62ae-d650-48bb-b096-9d1ca4721e4d",
   "metadata": {},
   "outputs": [],
   "source": [
    "for item in valuable_items_df[188:]: #continued api pulls\n",
    "    try: \n",
    "        item_ids = tradable_ge[item]\n",
    "        df_top_three = df_top_three.append(osrs_api(str(item_ids)))\n",
    "        time.sleep(random.randrange(1, 4))\n",
    "    except:\n",
    "        break"
   ]
  },
  {
   "cell_type": "code",
   "execution_count": 165,
   "id": "868b4630-bfce-4084-985a-6fa7818fa3b4",
   "metadata": {},
   "outputs": [
    {
     "data": {
      "text/html": [
       "<div>\n",
       "<style scoped>\n",
       "    .dataframe tbody tr th:only-of-type {\n",
       "        vertical-align: middle;\n",
       "    }\n",
       "\n",
       "    .dataframe tbody tr th {\n",
       "        vertical-align: top;\n",
       "    }\n",
       "\n",
       "    .dataframe thead th {\n",
       "        text-align: right;\n",
       "    }\n",
       "</style>\n",
       "<table border=\"1\" class=\"dataframe\">\n",
       "  <thead>\n",
       "    <tr style=\"text-align: right;\">\n",
       "      <th></th>\n",
       "      <th>names</th>\n",
       "      <th>prices</th>\n",
       "    </tr>\n",
       "  </thead>\n",
       "  <tbody>\n",
       "    <tr>\n",
       "      <th>0</th>\n",
       "      <td>3rd age pickaxe</td>\n",
       "      <td>2.100000e+09</td>\n",
       "    </tr>\n",
       "    <tr>\n",
       "      <th>0</th>\n",
       "      <td>3rd age druidic robe top</td>\n",
       "      <td>2.000000e+09</td>\n",
       "    </tr>\n",
       "    <tr>\n",
       "      <th>0</th>\n",
       "      <td>3rd age druidic robe bottoms</td>\n",
       "      <td>1.900000e+09</td>\n",
       "    </tr>\n",
       "    <tr>\n",
       "      <th>0</th>\n",
       "      <td>Elysian sigil</td>\n",
       "      <td>1.100000e+09</td>\n",
       "    </tr>\n",
       "    <tr>\n",
       "      <th>0</th>\n",
       "      <td>3rd age druidic cloak</td>\n",
       "      <td>1.000000e+09</td>\n",
       "    </tr>\n",
       "    <tr>\n",
       "      <th>...</th>\n",
       "      <td>...</td>\n",
       "      <td>...</td>\n",
       "    </tr>\n",
       "    <tr>\n",
       "      <th>0</th>\n",
       "      <td>Trailblazer relic hunter (t3) armour set</td>\n",
       "      <td>2.700000e+06</td>\n",
       "    </tr>\n",
       "    <tr>\n",
       "      <th>0</th>\n",
       "      <td>Black tourmaline core</td>\n",
       "      <td>2.700000e+06</td>\n",
       "    </tr>\n",
       "    <tr>\n",
       "      <th>0</th>\n",
       "      <td>Twisted relic hunter (t3) armour set</td>\n",
       "      <td>2.700000e+06</td>\n",
       "    </tr>\n",
       "    <tr>\n",
       "      <th>0</th>\n",
       "      <td>Infinity top</td>\n",
       "      <td>2.500000e+06</td>\n",
       "    </tr>\n",
       "    <tr>\n",
       "      <th>0</th>\n",
       "      <td>Toxic blowpipe (empty)</td>\n",
       "      <td>2.700000e+06</td>\n",
       "    </tr>\n",
       "  </tbody>\n",
       "</table>\n",
       "<p>209 rows × 2 columns</p>\n",
       "</div>"
      ],
      "text/plain": [
       "                                       names        prices\n",
       "0                            3rd age pickaxe  2.100000e+09\n",
       "0                   3rd age druidic robe top  2.000000e+09\n",
       "0               3rd age druidic robe bottoms  1.900000e+09\n",
       "0                              Elysian sigil  1.100000e+09\n",
       "0                      3rd age druidic cloak  1.000000e+09\n",
       "..                                       ...           ...\n",
       "0   Trailblazer relic hunter (t3) armour set  2.700000e+06\n",
       "0                      Black tourmaline core  2.700000e+06\n",
       "0       Twisted relic hunter (t3) armour set  2.700000e+06\n",
       "0                               Infinity top  2.500000e+06\n",
       "0                     Toxic blowpipe (empty)  2.700000e+06\n",
       "\n",
       "[209 rows x 2 columns]"
      ]
     },
     "execution_count": 165,
     "metadata": {},
     "output_type": "execute_result"
    }
   ],
   "source": [
    "df_top_three"
   ]
  },
  {
   "cell_type": "code",
   "execution_count": 166,
   "id": "f83069f6-3297-42a4-a0db-d364591d4a8d",
   "metadata": {},
   "outputs": [],
   "source": [
    "for item in valuable_items_df[209:]: #continued api pulls\n",
    "    try: \n",
    "        item_ids = tradable_ge[item]\n",
    "        df_top_three = df_top_three.append(osrs_api(str(item_ids)))\n",
    "        time.sleep(random.randrange(1, 4))\n",
    "    except:\n",
    "        break"
   ]
  },
  {
   "cell_type": "code",
   "execution_count": 167,
   "id": "749822ed-8352-4f87-878c-21b4ff590915",
   "metadata": {},
   "outputs": [
    {
     "data": {
      "text/html": [
       "<div>\n",
       "<style scoped>\n",
       "    .dataframe tbody tr th:only-of-type {\n",
       "        vertical-align: middle;\n",
       "    }\n",
       "\n",
       "    .dataframe tbody tr th {\n",
       "        vertical-align: top;\n",
       "    }\n",
       "\n",
       "    .dataframe thead th {\n",
       "        text-align: right;\n",
       "    }\n",
       "</style>\n",
       "<table border=\"1\" class=\"dataframe\">\n",
       "  <thead>\n",
       "    <tr style=\"text-align: right;\">\n",
       "      <th></th>\n",
       "      <th>names</th>\n",
       "      <th>prices</th>\n",
       "    </tr>\n",
       "  </thead>\n",
       "  <tbody>\n",
       "    <tr>\n",
       "      <th>0</th>\n",
       "      <td>3rd age pickaxe</td>\n",
       "      <td>2.100000e+09</td>\n",
       "    </tr>\n",
       "    <tr>\n",
       "      <th>0</th>\n",
       "      <td>3rd age druidic robe top</td>\n",
       "      <td>2.000000e+09</td>\n",
       "    </tr>\n",
       "    <tr>\n",
       "      <th>0</th>\n",
       "      <td>3rd age druidic robe bottoms</td>\n",
       "      <td>1.900000e+09</td>\n",
       "    </tr>\n",
       "    <tr>\n",
       "      <th>0</th>\n",
       "      <td>Elysian sigil</td>\n",
       "      <td>1.100000e+09</td>\n",
       "    </tr>\n",
       "    <tr>\n",
       "      <th>0</th>\n",
       "      <td>3rd age druidic cloak</td>\n",
       "      <td>1.000000e+09</td>\n",
       "    </tr>\n",
       "    <tr>\n",
       "      <th>...</th>\n",
       "      <td>...</td>\n",
       "      <td>...</td>\n",
       "    </tr>\n",
       "    <tr>\n",
       "      <th>0</th>\n",
       "      <td>Ahrim's robeskirt 0</td>\n",
       "      <td>1.800000e+06</td>\n",
       "    </tr>\n",
       "    <tr>\n",
       "      <th>0</th>\n",
       "      <td>Holy sandals</td>\n",
       "      <td>1.500000e+06</td>\n",
       "    </tr>\n",
       "    <tr>\n",
       "      <th>0</th>\n",
       "      <td>Zamorak dragonhide set</td>\n",
       "      <td>1.700000e+06</td>\n",
       "    </tr>\n",
       "    <tr>\n",
       "      <th>0</th>\n",
       "      <td>Onyx bracelet</td>\n",
       "      <td>1.600000e+06</td>\n",
       "    </tr>\n",
       "    <tr>\n",
       "      <th>0</th>\n",
       "      <td>Team cape i</td>\n",
       "      <td>1.600000e+06</td>\n",
       "    </tr>\n",
       "  </tbody>\n",
       "</table>\n",
       "<p>258 rows × 2 columns</p>\n",
       "</div>"
      ],
      "text/plain": [
       "                           names        prices\n",
       "0                3rd age pickaxe  2.100000e+09\n",
       "0       3rd age druidic robe top  2.000000e+09\n",
       "0   3rd age druidic robe bottoms  1.900000e+09\n",
       "0                  Elysian sigil  1.100000e+09\n",
       "0          3rd age druidic cloak  1.000000e+09\n",
       "..                           ...           ...\n",
       "0            Ahrim's robeskirt 0  1.800000e+06\n",
       "0                   Holy sandals  1.500000e+06\n",
       "0         Zamorak dragonhide set  1.700000e+06\n",
       "0                  Onyx bracelet  1.600000e+06\n",
       "0                    Team cape i  1.600000e+06\n",
       "\n",
       "[258 rows x 2 columns]"
      ]
     },
     "execution_count": 167,
     "metadata": {},
     "output_type": "execute_result"
    }
   ],
   "source": [
    "df_top_three"
   ]
  },
  {
   "cell_type": "code",
   "execution_count": 168,
   "id": "b02c463d-c2e1-4652-a45d-7e1e50ca65dc",
   "metadata": {},
   "outputs": [],
   "source": [
    "for item in valuable_items_df[258:]: #continued api pulls\n",
    "    try: \n",
    "        item_ids = tradable_ge[item]\n",
    "        df_top_three = df_top_three.append(osrs_api(str(item_ids)))\n",
    "        time.sleep(random.randrange(1, 4))\n",
    "    except:\n",
    "        break"
   ]
  },
  {
   "cell_type": "code",
   "execution_count": 201,
   "id": "c121c5c6-7333-43c9-8be0-e68bb9b6ae5f",
   "metadata": {},
   "outputs": [
    {
     "data": {
      "text/html": [
       "<div>\n",
       "<style scoped>\n",
       "    .dataframe tbody tr th:only-of-type {\n",
       "        vertical-align: middle;\n",
       "    }\n",
       "\n",
       "    .dataframe tbody tr th {\n",
       "        vertical-align: top;\n",
       "    }\n",
       "\n",
       "    .dataframe thead th {\n",
       "        text-align: right;\n",
       "    }\n",
       "</style>\n",
       "<table border=\"1\" class=\"dataframe\">\n",
       "  <thead>\n",
       "    <tr style=\"text-align: right;\">\n",
       "      <th></th>\n",
       "      <th>names</th>\n",
       "      <th>prices</th>\n",
       "    </tr>\n",
       "  </thead>\n",
       "  <tbody>\n",
       "    <tr>\n",
       "      <th>0</th>\n",
       "      <td>3rd age pickaxe</td>\n",
       "      <td>2.100000e+09</td>\n",
       "    </tr>\n",
       "    <tr>\n",
       "      <th>0</th>\n",
       "      <td>3rd age druidic robe top</td>\n",
       "      <td>2.000000e+09</td>\n",
       "    </tr>\n",
       "    <tr>\n",
       "      <th>0</th>\n",
       "      <td>3rd age druidic robe bottoms</td>\n",
       "      <td>1.900000e+09</td>\n",
       "    </tr>\n",
       "    <tr>\n",
       "      <th>0</th>\n",
       "      <td>Elysian sigil</td>\n",
       "      <td>1.100000e+09</td>\n",
       "    </tr>\n",
       "    <tr>\n",
       "      <th>0</th>\n",
       "      <td>3rd age druidic cloak</td>\n",
       "      <td>1.000000e+09</td>\n",
       "    </tr>\n",
       "    <tr>\n",
       "      <th>...</th>\n",
       "      <td>...</td>\n",
       "      <td>...</td>\n",
       "    </tr>\n",
       "    <tr>\n",
       "      <th>0</th>\n",
       "      <td>Dragonstone full helm</td>\n",
       "      <td>1.100000e+06</td>\n",
       "    </tr>\n",
       "    <tr>\n",
       "      <th>0</th>\n",
       "      <td>Dharok's platelegs 0</td>\n",
       "      <td>1.400000e+06</td>\n",
       "    </tr>\n",
       "    <tr>\n",
       "      <th>0</th>\n",
       "      <td>Obsidian cape (r)</td>\n",
       "      <td>1.100000e+06</td>\n",
       "    </tr>\n",
       "    <tr>\n",
       "      <th>0</th>\n",
       "      <td>Amulet of power (t)</td>\n",
       "      <td>1.100000e+06</td>\n",
       "    </tr>\n",
       "    <tr>\n",
       "      <th>0</th>\n",
       "      <td>Black mask</td>\n",
       "      <td>1.100000e+06</td>\n",
       "    </tr>\n",
       "  </tbody>\n",
       "</table>\n",
       "<p>287 rows × 2 columns</p>\n",
       "</div>"
      ],
      "text/plain": [
       "                           names        prices\n",
       "0                3rd age pickaxe  2.100000e+09\n",
       "0       3rd age druidic robe top  2.000000e+09\n",
       "0   3rd age druidic robe bottoms  1.900000e+09\n",
       "0                  Elysian sigil  1.100000e+09\n",
       "0          3rd age druidic cloak  1.000000e+09\n",
       "..                           ...           ...\n",
       "0          Dragonstone full helm  1.100000e+06\n",
       "0           Dharok's platelegs 0  1.400000e+06\n",
       "0              Obsidian cape (r)  1.100000e+06\n",
       "0            Amulet of power (t)  1.100000e+06\n",
       "0                     Black mask  1.100000e+06\n",
       "\n",
       "[287 rows x 2 columns]"
      ]
     },
     "execution_count": 201,
     "metadata": {},
     "output_type": "execute_result"
    }
   ],
   "source": [
    "df_top_three"
   ]
  },
  {
   "cell_type": "code",
   "execution_count": 171,
   "id": "a7f5d89a-dde8-4e84-8a2b-bd3ce71a68e5",
   "metadata": {},
   "outputs": [],
   "source": [
    "for item in valuable_items_df[277:]: #continued api pulls\n",
    "    try: \n",
    "        item_ids = tradable_ge[item]\n",
    "        df_top_three = df_top_three.append(osrs_api(str(item_ids)))\n",
    "        time.sleep(random.randrange(1, 4))\n",
    "    except:\n",
    "        break"
   ]
  },
  {
   "cell_type": "code",
   "execution_count": 177,
   "id": "96c76e87-a277-4ac3-8716-4525283a68cb",
   "metadata": {},
   "outputs": [
    {
     "name": "stdout",
     "output_type": "stream",
     "text": [
      "<class 'pandas.core.frame.DataFrame'>\n",
      "Int64Index: 287 entries, 0 to 0\n",
      "Data columns (total 2 columns):\n",
      " #   Column  Non-Null Count  Dtype  \n",
      "---  ------  --------------  -----  \n",
      " 0   names   287 non-null    object \n",
      " 1   prices  287 non-null    float64\n",
      "dtypes: float64(1), object(1)\n",
      "memory usage: 6.7+ KB\n"
     ]
    }
   ],
   "source": [
    "df_top_three.info() #it's finally done!"
   ]
  },
  {
   "cell_type": "code",
   "execution_count": 216,
   "id": "4a128e2c-c0dc-485e-84be-1babc1355b11",
   "metadata": {},
   "outputs": [],
   "source": [
    "df_top_three.to_csv('./data/top_worth_items.csv',index=False)"
   ]
  },
  {
   "cell_type": "markdown",
   "id": "21c880e0-f895-4586-b76b-e0a4b848b88b",
   "metadata": {},
   "source": [
    "The dataframe with the top 300 most expensive items minus "
   ]
  },
  {
   "cell_type": "code",
   "execution_count": 186,
   "id": "38eee253-cac5-456e-9467-212aa99fdcb4",
   "metadata": {},
   "outputs": [],
   "source": [
    "test_df = df_top_three.copy()"
   ]
  },
  {
   "cell_type": "code",
   "execution_count": 214,
   "id": "5e9797f6-2f54-4f36-b920-c783208a9987",
   "metadata": {
    "tags": []
   },
   "outputs": [],
   "source": [
    "for i in test_df['names']:\n",
    "    test_df['item_id'] = tradable_ge[i]"
   ]
  },
  {
   "cell_type": "code",
   "execution_count": 215,
   "id": "17f53442-629c-4b0b-a97b-d2a30057c40f",
   "metadata": {},
   "outputs": [
    {
     "data": {
      "text/html": [
       "<div>\n",
       "<style scoped>\n",
       "    .dataframe tbody tr th:only-of-type {\n",
       "        vertical-align: middle;\n",
       "    }\n",
       "\n",
       "    .dataframe tbody tr th {\n",
       "        vertical-align: top;\n",
       "    }\n",
       "\n",
       "    .dataframe thead th {\n",
       "        text-align: right;\n",
       "    }\n",
       "</style>\n",
       "<table border=\"1\" class=\"dataframe\">\n",
       "  <thead>\n",
       "    <tr style=\"text-align: right;\">\n",
       "      <th></th>\n",
       "      <th>names</th>\n",
       "      <th>prices</th>\n",
       "      <th>item_id</th>\n",
       "    </tr>\n",
       "  </thead>\n",
       "  <tbody>\n",
       "    <tr>\n",
       "      <th>0</th>\n",
       "      <td>3rd age pickaxe</td>\n",
       "      <td>2.100000e+09</td>\n",
       "      <td>8921</td>\n",
       "    </tr>\n",
       "    <tr>\n",
       "      <th>0</th>\n",
       "      <td>3rd age druidic robe top</td>\n",
       "      <td>2.000000e+09</td>\n",
       "      <td>8921</td>\n",
       "    </tr>\n",
       "    <tr>\n",
       "      <th>0</th>\n",
       "      <td>3rd age druidic robe bottoms</td>\n",
       "      <td>1.900000e+09</td>\n",
       "      <td>8921</td>\n",
       "    </tr>\n",
       "    <tr>\n",
       "      <th>0</th>\n",
       "      <td>Elysian sigil</td>\n",
       "      <td>1.100000e+09</td>\n",
       "      <td>8921</td>\n",
       "    </tr>\n",
       "    <tr>\n",
       "      <th>0</th>\n",
       "      <td>3rd age druidic cloak</td>\n",
       "      <td>1.000000e+09</td>\n",
       "      <td>8921</td>\n",
       "    </tr>\n",
       "    <tr>\n",
       "      <th>...</th>\n",
       "      <td>...</td>\n",
       "      <td>...</td>\n",
       "      <td>...</td>\n",
       "    </tr>\n",
       "    <tr>\n",
       "      <th>0</th>\n",
       "      <td>Dragonstone full helm</td>\n",
       "      <td>1.100000e+06</td>\n",
       "      <td>8921</td>\n",
       "    </tr>\n",
       "    <tr>\n",
       "      <th>0</th>\n",
       "      <td>Dharok's platelegs 0</td>\n",
       "      <td>1.400000e+06</td>\n",
       "      <td>8921</td>\n",
       "    </tr>\n",
       "    <tr>\n",
       "      <th>0</th>\n",
       "      <td>Obsidian cape (r)</td>\n",
       "      <td>1.100000e+06</td>\n",
       "      <td>8921</td>\n",
       "    </tr>\n",
       "    <tr>\n",
       "      <th>0</th>\n",
       "      <td>Amulet of power (t)</td>\n",
       "      <td>1.100000e+06</td>\n",
       "      <td>8921</td>\n",
       "    </tr>\n",
       "    <tr>\n",
       "      <th>0</th>\n",
       "      <td>Black mask</td>\n",
       "      <td>1.100000e+06</td>\n",
       "      <td>8921</td>\n",
       "    </tr>\n",
       "  </tbody>\n",
       "</table>\n",
       "<p>287 rows × 3 columns</p>\n",
       "</div>"
      ],
      "text/plain": [
       "                           names        prices  item_id\n",
       "0                3rd age pickaxe  2.100000e+09     8921\n",
       "0       3rd age druidic robe top  2.000000e+09     8921\n",
       "0   3rd age druidic robe bottoms  1.900000e+09     8921\n",
       "0                  Elysian sigil  1.100000e+09     8921\n",
       "0          3rd age druidic cloak  1.000000e+09     8921\n",
       "..                           ...           ...      ...\n",
       "0          Dragonstone full helm  1.100000e+06     8921\n",
       "0           Dharok's platelegs 0  1.400000e+06     8921\n",
       "0              Obsidian cape (r)  1.100000e+06     8921\n",
       "0            Amulet of power (t)  1.100000e+06     8921\n",
       "0                     Black mask  1.100000e+06     8921\n",
       "\n",
       "[287 rows x 3 columns]"
      ]
     },
     "execution_count": 215,
     "metadata": {},
     "output_type": "execute_result"
    }
   ],
   "source": [
    "test_df"
   ]
  },
  {
   "cell_type": "code",
   "execution_count": null,
   "id": "ed3fdbec-3602-4a7f-a567-669186503b38",
   "metadata": {},
   "outputs": [],
   "source": []
  }
 ],
 "metadata": {
  "kernelspec": {
   "display_name": "Python 3 (ipykernel)",
   "language": "python",
   "name": "python3"
  },
  "language_info": {
   "codemirror_mode": {
    "name": "ipython",
    "version": 3
   },
   "file_extension": ".py",
   "mimetype": "text/x-python",
   "name": "python",
   "nbconvert_exporter": "python",
   "pygments_lexer": "ipython3",
   "version": "3.9.7"
  }
 },
 "nbformat": 4,
 "nbformat_minor": 5
}
