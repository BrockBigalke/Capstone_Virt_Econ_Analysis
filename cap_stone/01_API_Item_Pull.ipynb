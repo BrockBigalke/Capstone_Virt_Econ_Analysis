{
 "cells": [
  {
   "cell_type": "markdown",
   "id": "59e4898f-0695-4f3d-a25c-85130062168f",
   "metadata": {},
   "source": [
    "## API To Pull 300 Highest Value Items"
   ]
  },
  {
   "cell_type": "markdown",
   "id": "02702873-472d-4be4-9bd7-a8d5703e98f3",
   "metadata": {},
   "source": [
    "This notebook will scrape the OSRS wiki for the current top 300 highest value items and create a dataframe."
   ]
  },
  {
   "cell_type": "code",
   "execution_count": 8,
   "id": "f72145c3-2e8f-4051-bfdf-957e9cc7f5da",
   "metadata": {},
   "outputs": [],
   "source": [
    "#https://oldschool.runescape.wiki/w/RuneScape:Grand_Exchange_Market_Watch/Most_expensive#a=30"
   ]
  },
  {
   "cell_type": "code",
   "execution_count": 13,
   "id": "79c8501e-26a2-440b-ba21-0dadf3f39ad4",
   "metadata": {},
   "outputs": [],
   "source": [
    "import pandas as pd\n",
    "\n",
    "import requests\n",
    "from bs4 import BeautifulSoup"
   ]
  },
  {
   "cell_type": "code",
   "execution_count": 16,
   "id": "260d57ad-02e0-4b1e-b9b4-12f52556e238",
   "metadata": {},
   "outputs": [
    {
     "data": {
      "text/plain": [
       "<Response [200]>"
      ]
     },
     "execution_count": 16,
     "metadata": {},
     "output_type": "execute_result"
    }
   ],
   "source": [
    "url = 'https://oldschool.runescape.wiki/w/RuneScape:Grand_Exchange_Market_Watch/Most_expensive#a=30'\n",
    "res = requests.get(url)\n",
    "res"
   ]
  },
  {
   "cell_type": "code",
   "execution_count": 19,
   "id": "32854597-6736-46eb-a87c-c83f7946b957",
   "metadata": {},
   "outputs": [
    {
     "data": {
      "text/plain": [
       "'<!DOCTYPE html>\\n<html class=\"client-nojs\" lang=\"en-GB\" dir=\"ltr\">\\n<head>\\n<meta charset=\"UTF-8\"/>\\n<title>RuneScape:Grand Exchange Market Watch/Most expensive - OSRS Wiki</title>\\n<script>document.documentElement.className=\"client-js\";RLCONF={\"wgBreakFrames\":false,\"wgSeparatorTransformTable\":[\"\",\"\"],\"wgDigitTransformTable\":[\"\",\"\"],\"wgDefaultDateFormat\":\"dmy\",\"wgMonthNames\":[\"\",\"January\",\"February\",\"March\",\"April\",\"May\",\"June\",\"July\",\"August\",\"September\",\"October\",\"November\",\"December\"],\"wgRequestId'"
      ]
     },
     "execution_count": 19,
     "metadata": {},
     "output_type": "execute_result"
    }
   ],
   "source": [
    "res.text[:500]"
   ]
  },
  {
   "cell_type": "code",
   "execution_count": 21,
   "id": "e050d706-d953-4f28-b4a2-f4fe5632fd82",
   "metadata": {},
   "outputs": [],
   "source": [
    "soup = BeautifulSoup(res.content)"
   ]
  },
  {
   "cell_type": "code",
   "execution_count": 49,
   "id": "eb66cb01-52a8-4c4f-9c7c-719ad4e2f696",
   "metadata": {},
   "outputs": [
    {
     "data": {
      "text/plain": [
       "[<h2><span class=\"mw-headline\" id=\"Chart\">Chart</span></h2>,\n",
       " <h2><span class=\"mw-headline\" id=\"Table\">Table</span></h2>,\n",
       " <h2>Navigation menu</h2>]"
      ]
     },
     "execution_count": 49,
     "metadata": {},
     "output_type": "execute_result"
    }
   ],
   "source": [
    "soup.find_all(name='h2')"
   ]
  },
  {
   "cell_type": "code",
   "execution_count": 79,
   "id": "1214258e-69eb-4b4c-9ef1-a0beee9f8b30",
   "metadata": {},
   "outputs": [
    {
     "data": {
      "text/plain": [
       "<td><a href=\"/w/3rd_age_pickaxe\" title=\"3rd age pickaxe\"><img alt=\"3rd age pickaxe.png\" data-file-height=\"29\" data-file-width=\"31\" decoding=\"async\" height=\"29\" src=\"/images/3rd_age_pickaxe.png?a4ed9\" width=\"31\"/></a></td>"
      ]
     },
     "execution_count": 79,
     "metadata": {},
     "output_type": "execute_result"
    }
   ],
   "source": [
    "soup.find('table').find_all('td')[0]"
   ]
  },
  {
   "cell_type": "code",
   "execution_count": 113,
   "id": "942ee7ae-f51c-4fd9-bdf5-12f8e710cdae",
   "metadata": {},
   "outputs": [],
   "source": [
    "api_list = [tag.text.strip() for tag in soup.find('table').find_all('td')]"
   ]
  },
  {
   "cell_type": "code",
   "execution_count": 131,
   "id": "da6b334c-fcb9-402e-95d8-c6b27b5a07ef",
   "metadata": {},
   "outputs": [],
   "source": [
    "list_items = api_list[1::3]"
   ]
  },
  {
   "cell_type": "code",
   "execution_count": 132,
   "id": "bd88c24d-e630-45f9-a28c-7693af7f4af4",
   "metadata": {},
   "outputs": [
    {
     "data": {
      "text/plain": [
       "['3rd age pickaxe',\n",
       " '3rd age druidic robe top',\n",
       " '3rd age druidic robe bottoms',\n",
       " 'Elysian sigil',\n",
       " '3rd age druidic cloak',\n",
       " 'Twisted bow',\n",
       " '3rd age bow',\n",
       " 'Elysian spirit shield',\n",
       " '3rd age druidic staff',\n",
       " 'Harmonised orb']"
      ]
     },
     "execution_count": 132,
     "metadata": {},
     "output_type": "execute_result"
    }
   ],
   "source": [
    "list_items[0:10]"
   ]
  },
  {
   "cell_type": "code",
   "execution_count": 145,
   "id": "a69fead7-592e-4b3d-9cbc-c27120e4a9b9",
   "metadata": {},
   "outputs": [],
   "source": [
    "pd.DataFrame(list_items,columns=['items']).to_csv('./Data/top_three_hundred_items.csv',index=False)"
   ]
  }
 ],
 "metadata": {
  "kernelspec": {
   "display_name": "Python 3 (ipykernel)",
   "language": "python",
   "name": "python3"
  },
  "language_info": {
   "codemirror_mode": {
    "name": "ipython",
    "version": 3
   },
   "file_extension": ".py",
   "mimetype": "text/x-python",
   "name": "python",
   "nbconvert_exporter": "python",
   "pygments_lexer": "ipython3",
   "version": "3.9.7"
  }
 },
 "nbformat": 4,
 "nbformat_minor": 5
}
