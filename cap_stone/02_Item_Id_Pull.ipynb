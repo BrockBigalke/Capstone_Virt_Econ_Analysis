{
 "cells": [
  {
   "cell_type": "markdown",
   "id": "d3250411-fb7c-41f2-b375-edf9d7f27f48",
   "metadata": {},
   "source": [
    "## Download of OSRSBox for Dictionary to Pull Item Ids"
   ]
  },
  {
   "cell_type": "markdown",
   "id": "9d06f1f9-f17b-437b-99be-3532b598ef58",
   "metadata": {},
   "source": [
    "OSRSBox is a website project created by \"PH01L\", an OSRS player. I used the python plugin because it contains information on every item in game such as a boolean on whether an item is tradable on the GE or not along with its in-game id."
   ]
  },
  {
   "cell_type": "code",
   "execution_count": 9,
   "id": "9878fd6b-cea0-47f5-b264-0ebf5f88a778",
   "metadata": {},
   "outputs": [],
   "source": [
    "import pandas as pd\n",
    "import json"
   ]
  },
  {
   "cell_type": "code",
   "execution_count": 2,
   "id": "70f1c7db-7b75-416e-81ba-d1d07f5b1450",
   "metadata": {},
   "outputs": [],
   "source": [
    "#pip install osrsbox\n",
    "#pip install --upgrade osrsbox"
   ]
  },
  {
   "cell_type": "code",
   "execution_count": 3,
   "id": "d57768e6-3161-4cdf-a024-59afcb665923",
   "metadata": {},
   "outputs": [],
   "source": [
    "from osrsbox import items_api_examples"
   ]
  },
  {
   "cell_type": "code",
   "execution_count": 12,
   "id": "7e88d1a7-aaab-450a-b279-4b9ea141ec9e",
   "metadata": {},
   "outputs": [
    {
     "name": "stdout",
     "output_type": "stream",
     "text": [
      "{'id': 12453, 'name': 'Black wizard hat (g)', 'last_updated': '2021-08-05', 'incomplete': False, 'members': False, 'tradeable': True, 'tradeable_on_ge': True, 'stackable': False, 'stacked': None, 'noted': False, 'noteable': True, 'linked_id_item': None, 'linked_id_noted': 12454, 'linked_id_placeholder': 15975, 'placeholder': False, 'equipable': True, 'equipable_by_player': True, 'equipable_weapon': False, 'cost': 2, 'lowalch': 0, 'highalch': 1, 'weight': 0.453, 'buy_limit': 4, 'quest_item': False, 'release_date': '2014-06-12', 'duplicate': False, 'examine': 'A silly pointed hat, with colourful trim.', 'icon': 'iVBORw0KGgoAAAANSUhEUgAAACQAAAAgCAYAAAB6kdqOAAAB10lEQVR4Xu2Vv0vDQBTHk/+gU5YsBxkKAaGLo+DiILg5ddBBF1dB3Lp1cROVIiJSRBR1qFspiD+gWOqPIogIDuIqTuIkEZ68PNIfd2dyaZvc0i98aaG9e59837uLYYyUqEzotVaZwGy7xxqhRJgAKMeYDig5kKaU/ofRlFI4kIaUooFShFKDSQkqHkwAlPA88RdhOGQKQIaBBahIOExqQKRomBSB1GASAhJnRhMQFT7fYlBdJ9c2yHzRMA8BiEDqOwwuS/GKyzwgkAmtfQcau46w8SDubbeyTHg8cKC5N1wYlxnt7y8nThyo5IHQWEMRKhrot7UI3u0MeDdj8H3lCr/LzAOh78pKUDQ/YUDewzx4zSn4qbvwdeHCRzUL72dZvxV4CCprNpRWLSgsWDA3nYGJnAiDfjokoIhhN31yNL9BG+g+D15j3E/ns+b6MM9HtAavhXLBhuKSBcv5DMxOGtJ08OTi1YEPrpQStg2T4jfiHcDgxljkuGjD5gqlw/8XHZze7hPXeSeGSryVA6uAyowtxbXdEIowJH5RZ7HpPyXOC19U5rdKFl5PacZiJBJXlBa2CV8rOA/4eb3NfFicJwRAkD7a05+CtKIsJpyw+IIy82tGGob+AH0p0wBetmP+AAAAAElFTkSuQmCC', 'wiki_name': 'Black wizard hat (g)', 'wiki_url': 'https://oldschool.runescape.wiki/w/Black_wizard_hat_(g)', 'equipment': {'attack_stab': 0, 'attack_slash': 0, 'attack_crush': 0, 'attack_magic': 2, 'attack_ranged': 0, 'defence_stab': 0, 'defence_slash': 0, 'defence_crush': 0, 'defence_magic': 2, 'defence_ranged': 0, 'melee_strength': 0, 'ranged_strength': 0, 'magic_damage': 0, 'prayer': 0, 'slot': 'head', 'requirements': None}, 'weapon': None}\n"
     ]
    }
   ],
   "source": [
    "#Code from OSRSBox.com adapted to test for one item before creating dictionary of items and item_ids\n",
    "try: \n",
    "    from urllib.request import urlopen\n",
    "except ImportError:\n",
    "    from urllib2 import urlopen\n",
    "url = (\"https://www.osrsbox.com/osrsbox-db/items-json/12453.json\")\n",
    "response = urlopen(url)\n",
    "data = response.read().decode(\"utf-8\")\n",
    "json_obj = json.loads(data)\n",
    "print(json_obj)"
   ]
  },
  {
   "cell_type": "code",
   "execution_count": 13,
   "id": "74a1b0dc-020f-498d-aa0f-a6e914b53d5e",
   "metadata": {},
   "outputs": [],
   "source": [
    "from osrsbox import items_api\n",
    "items = items_api.load()\n",
    "tradable_ge = {}\n",
    "for item in items:\n",
    "    if item.tradeable_on_ge == True:\n",
    "        tradable_ge[item.name] = item.id\n",
    "    else: \n",
    "        continue"
   ]
  },
  {
   "cell_type": "code",
   "execution_count": 14,
   "id": "95426bd1-92f2-4093-802f-e35653a2b30d",
   "metadata": {},
   "outputs": [
    {
     "data": {
      "text/plain": [
       "{'Cannonball': 2,\n",
       " 'Cannon base': 6,\n",
       " 'Cannon stand': 8,\n",
       " 'Cannon barrels': 10,\n",
       " 'Cannon furnace': 12,\n",
       " 'Insect repellent': 28,\n",
       " 'Bucket of wax': 30,\n",
       " 'Candle': 36,\n",
       " 'Bronze arrowtips': 39,\n",
       " 'Iron arrowtips': 40,\n",
       " 'Steel arrowtips': 41}"
      ]
     },
     "execution_count": 14,
     "metadata": {},
     "output_type": "execute_result"
    }
   ],
   "source": [
    "dict(list(tradable_ge.items())[0:11]) #tradable_ge is a dictionary containing all items from osrsbox that are tradable on the in game market."
   ]
  },
  {
   "cell_type": "code",
   "execution_count": 15,
   "id": "3ea1271b-1ebc-49d5-a128-d5eb6f3f4fde",
   "metadata": {},
   "outputs": [
    {
     "data": {
      "text/plain": [
       "3759"
      ]
     },
     "execution_count": 15,
     "metadata": {},
     "output_type": "execute_result"
    }
   ],
   "source": [
    "len(tradable_ge)"
   ]
  },
  {
   "cell_type": "code",
   "execution_count": 20,
   "id": "5e8fb956-3104-419e-9e35-1f7a43f13fbf",
   "metadata": {
    "tags": []
   },
   "outputs": [
    {
     "data": {
      "text/plain": [
       "36"
      ]
     },
     "execution_count": 20,
     "metadata": {},
     "output_type": "execute_result"
    }
   ],
   "source": [
    "tradable_ge['Candle']"
   ]
  },
  {
   "cell_type": "markdown",
   "id": "06ddb5d6-406e-4f87-9836-054387480326",
   "metadata": {},
   "source": [
    "This code will be used in a later notebook to create a dictionary for connecting item names to their item ids."
   ]
  }
 ],
 "metadata": {
  "kernelspec": {
   "display_name": "Python 3 (ipykernel)",
   "language": "python",
   "name": "python3"
  },
  "language_info": {
   "codemirror_mode": {
    "name": "ipython",
    "version": 3
   },
   "file_extension": ".py",
   "mimetype": "text/x-python",
   "name": "python",
   "nbconvert_exporter": "python",
   "pygments_lexer": "ipython3",
   "version": "3.9.7"
  }
 },
 "nbformat": 4,
 "nbformat_minor": 5
}
